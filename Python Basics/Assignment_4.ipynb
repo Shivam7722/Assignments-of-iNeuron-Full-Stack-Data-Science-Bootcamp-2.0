{
 "cells": [
  {
   "cell_type": "markdown",
   "id": "a2975be0",
   "metadata": {},
   "source": [
    "shivampal7722@gmail.com"
   ]
  },
  {
   "cell_type": "markdown",
   "id": "0cb6317c",
   "metadata": {},
   "source": [
    "###  1. What exactly is [ ]?\n",
    "Ans :- Empty List."
   ]
  },
  {
   "cell_type": "markdown",
   "id": "006495ff",
   "metadata": {},
   "source": [
    "### 2. In a list of values stored in a variable called spam, how would you assign the value &#39;hello&#39; as the third value? (Assume [2, 4, 6, 8, 10] are in spam.)"
   ]
  },
  {
   "cell_type": "code",
   "execution_count": 1,
   "id": "bbb8cc62",
   "metadata": {},
   "outputs": [
    {
     "data": {
      "text/plain": [
       "[2, 4, 6, 8, 10]"
      ]
     },
     "execution_count": 1,
     "metadata": {},
     "output_type": "execute_result"
    }
   ],
   "source": [
    "spam = [2,4,6,8,10]  # Assumed list stored in spam variable.\n",
    "spam"
   ]
  },
  {
   "cell_type": "code",
   "execution_count": 2,
   "id": "5e3ba66b",
   "metadata": {},
   "outputs": [
    {
     "data": {
      "text/plain": [
       "[2, 4, 'hello', 8, 10]"
      ]
     },
     "execution_count": 2,
     "metadata": {},
     "output_type": "execute_result"
    }
   ],
   "source": [
    "spam[2] = 'hello' # Assign the value 'hello' as third value.\n",
    "spam"
   ]
  },
  {
   "cell_type": "markdown",
   "id": "63a04fc0",
   "metadata": {},
   "source": [
    "### Let&#39;s pretend the spam includes the list [&#39;a&#39;, &#39;b&#39;, &#39;c&#39;, &#39;d&#39;] for the next three queries."
   ]
  },
  {
   "cell_type": "code",
   "execution_count": 3,
   "id": "dc1d2a6d",
   "metadata": {},
   "outputs": [],
   "source": [
    "spam = ['a','b','c','d']"
   ]
  },
  {
   "cell_type": "markdown",
   "id": "dc5791c0",
   "metadata": {},
   "source": [
    "### 3. What is the value of spam[int(int(&#39;3&#39; * 2) / 11)]?"
   ]
  },
  {
   "cell_type": "code",
   "execution_count": 4,
   "id": "199b41e3",
   "metadata": {},
   "outputs": [
    {
     "data": {
      "text/plain": [
       "'d'"
      ]
     },
     "execution_count": 4,
     "metadata": {},
     "output_type": "execute_result"
    }
   ],
   "source": [
    "spam[int(int('3'*2)/11)]"
   ]
  },
  {
   "cell_type": "markdown",
   "id": "86f98644",
   "metadata": {},
   "source": [
    "### 4. What is the value of spam[-1]?"
   ]
  },
  {
   "cell_type": "code",
   "execution_count": 5,
   "id": "ee89ca4d",
   "metadata": {},
   "outputs": [
    {
     "data": {
      "text/plain": [
       "'d'"
      ]
     },
     "execution_count": 5,
     "metadata": {},
     "output_type": "execute_result"
    }
   ],
   "source": [
    "spam[-1]"
   ]
  },
  {
   "cell_type": "markdown",
   "id": "e05d20f2",
   "metadata": {},
   "source": [
    "### 5. What is the value of spam[:2]?"
   ]
  },
  {
   "cell_type": "code",
   "execution_count": 6,
   "id": "967eddb7",
   "metadata": {},
   "outputs": [
    {
     "data": {
      "text/plain": [
       "['a', 'b']"
      ]
     },
     "execution_count": 6,
     "metadata": {},
     "output_type": "execute_result"
    }
   ],
   "source": [
    "spam[:2]"
   ]
  },
  {
   "cell_type": "markdown",
   "id": "bd37ed55",
   "metadata": {},
   "source": [
    "### Let&#39;s pretend bacon has the list [3.14, &#39;cat,&#39; 11, &#39;cat,&#39; True] for the next three questions."
   ]
  },
  {
   "cell_type": "code",
   "execution_count": 7,
   "id": "5223ebd7",
   "metadata": {},
   "outputs": [],
   "source": [
    "bacon = [3.14,'cat',11,'cat',True]"
   ]
  },
  {
   "cell_type": "markdown",
   "id": "80c938a0",
   "metadata": {},
   "source": [
    "### 6. What is the value of bacon.index(&#39;cat&#39;)?"
   ]
  },
  {
   "cell_type": "code",
   "execution_count": 8,
   "id": "164b2992",
   "metadata": {},
   "outputs": [
    {
     "data": {
      "text/plain": [
       "1"
      ]
     },
     "execution_count": 8,
     "metadata": {},
     "output_type": "execute_result"
    }
   ],
   "source": [
    "bacon.index('cat')"
   ]
  },
  {
   "cell_type": "markdown",
   "id": "df6695d3",
   "metadata": {},
   "source": [
    "### 7. How does bacon.append(99) change the look of the list value in bacon?"
   ]
  },
  {
   "cell_type": "code",
   "execution_count": 9,
   "id": "fb661c94",
   "metadata": {},
   "outputs": [
    {
     "data": {
      "text/plain": [
       "[3.14, 'cat', 11, 'cat', True, 99]"
      ]
     },
     "execution_count": 9,
     "metadata": {},
     "output_type": "execute_result"
    }
   ],
   "source": [
    "bacon.append(99)\n",
    "bacon"
   ]
  },
  {
   "cell_type": "markdown",
   "id": "da6626bf",
   "metadata": {},
   "source": [
    "### 8. How does bacon.remove(&#39;cat&#39;) change the look of the list in bacon? <br>\n",
    "Ans:- It removes the first ocuurence of 'cat' which one is present at index[1]"
   ]
  },
  {
   "cell_type": "code",
   "execution_count": 10,
   "id": "5cf62daf",
   "metadata": {},
   "outputs": [
    {
     "data": {
      "text/plain": [
       "[3.14, 11, 'cat', True, 99]"
      ]
     },
     "execution_count": 10,
     "metadata": {},
     "output_type": "execute_result"
    }
   ],
   "source": [
    "bacon.remove('cat')\n",
    "bacon"
   ]
  },
  {
   "cell_type": "markdown",
   "id": "0ff759de",
   "metadata": {},
   "source": [
    "### 9. What are the list concatenation and list replication operators?"
   ]
  },
  {
   "cell_type": "markdown",
   "id": "c2823d9a",
   "metadata": {},
   "source": [
    "Ans : - **List Concatenation** :- When we add two list with '+' operator then it is called list concatenation. <br>\n",
    "example:-"
   ]
  },
  {
   "cell_type": "code",
   "execution_count": 11,
   "id": "45d355bc",
   "metadata": {},
   "outputs": [
    {
     "data": {
      "text/plain": [
       "[1, 2, 3, 4, 5, 6, 7, 8]"
      ]
     },
     "execution_count": 11,
     "metadata": {},
     "output_type": "execute_result"
    }
   ],
   "source": [
    "a = [1,2,3,4] #first list\n",
    "b = [5,6,7,8] #second list\n",
    "a+b  #concating list"
   ]
  },
  {
   "cell_type": "markdown",
   "id": "234901d6",
   "metadata": {},
   "source": [
    "**List replication** :-The replication used for repeats a list a given number of times by operator * . <br>\n",
    "example:-"
   ]
  },
  {
   "cell_type": "code",
   "execution_count": 12,
   "id": "55b962a1",
   "metadata": {},
   "outputs": [
    {
     "name": "stdout",
     "output_type": "stream",
     "text": [
      "['Shivam', 'Pal', 'Shivam', 'Pal', 'Shivam', 'Pal']\n"
     ]
    }
   ],
   "source": [
    "a = ['Shivam', 'Pal']\n",
    "a = a * 3\n",
    "print(a)"
   ]
  },
  {
   "cell_type": "markdown",
   "id": "220019f5",
   "metadata": {},
   "source": [
    "### 10. What is difference between the list methods append() and insert()?"
   ]
  },
  {
   "cell_type": "markdown",
   "id": "5aabaea1",
   "metadata": {},
   "source": [
    "Ans :- **append()** adds an item to the end of a list, whereas **insert()** inserts and item in a specified position in the list. <br>\n",
    "Example :-"
   ]
  },
  {
   "cell_type": "code",
   "execution_count": 13,
   "id": "19525b9c",
   "metadata": {},
   "outputs": [
    {
     "name": "stdout",
     "output_type": "stream",
     "text": [
      "list1 after append() mehtod :  ['shivam', 'shubham', 'rishabh']\n",
      "list1 after insert() mehtod :  ['shivam', 'ram', 'shubham', 'rishabh']\n"
     ]
    }
   ],
   "source": [
    "list1 = ['shivam','shubham']\n",
    "list1.append('rishabh')\n",
    "print('list1 after append() mehtod : ',list1)\n",
    "list1.insert(1,'ram')\n",
    "print('list1 after insert() mehtod : ',list1)"
   ]
  },
  {
   "cell_type": "markdown",
   "id": "831ea092",
   "metadata": {},
   "source": [
    "### 11. What are the two methods for removing items from a list?\n",
    " Ans :-"
   ]
  },
  {
   "cell_type": "markdown",
   "id": "94279272",
   "metadata": {},
   "source": [
    "1) The **pop()** method removes an element from the list based on the index given or by default it removes last element from thew list. <br>\n",
    "2) The **remove()** helps to remove the very first given element matching from the list."
   ]
  },
  {
   "cell_type": "code",
   "execution_count": 16,
   "id": "de24a61e",
   "metadata": {},
   "outputs": [
    {
     "name": "stdout",
     "output_type": "stream",
     "text": [
      "[2, 4, 6, 2, 8, 10]\n",
      "[2, 4, 6, 2, 10]\n",
      "[4, 6, 2, 10]\n"
     ]
    }
   ],
   "source": [
    "list2 = [2,4,6,2,8,10,11]\n",
    "list2.pop()   #removes last element\n",
    "print(list2)\n",
    "list2.pop(4)  #removes the element which one is present at index 4\n",
    "print(list2)\n",
    "list2.remove(2) #removes the element 2 from the list (first occurence of 2 )\n",
    "print(list2)"
   ]
  },
  {
   "cell_type": "markdown",
   "id": "7945ca23",
   "metadata": {},
   "source": [
    "### 12. Describe how list values and string values are identical."
   ]
  },
  {
   "cell_type": "markdown",
   "id": "0ef377d8",
   "metadata": {},
   "source": [
    "Ans : -  Lists are similar to strings, which are ordered collections of characters, except that the elements of a list can have any type and for any one list, the items can be of different types."
   ]
  },
  {
   "cell_type": "markdown",
   "id": "10cea9cb",
   "metadata": {},
   "source": [
    "### 13. What&#39;s the difference between tuples and lists?"
   ]
  },
  {
   "cell_type": "markdown",
   "id": "b036531a",
   "metadata": {},
   "source": [
    "Ans :- **lists** are mutable i.e we can modified the lists whereas **tuples** are immutable i.e we can't modified the tuples."
   ]
  },
  {
   "cell_type": "markdown",
   "id": "df83911c",
   "metadata": {},
   "source": [
    "### 14. How do you type a tuple value that only contains the integer 42?\n",
    "Ans :- "
   ]
  },
  {
   "cell_type": "code",
   "execution_count": 24,
   "id": "e9f9f68a",
   "metadata": {},
   "outputs": [
    {
     "name": "stdout",
     "output_type": "stream",
     "text": [
      "<class 'tuple'>\n",
      "<class 'int'>\n"
     ]
    }
   ],
   "source": [
    "b = (42,)  #trailing comma is mandatory for showing the tuple otherwise it will return int type.\n",
    "print(type(b))\n",
    "\n",
    "a = (42)\n",
    "print(type(a))"
   ]
  },
  {
   "cell_type": "markdown",
   "id": "77b6197f",
   "metadata": {},
   "source": [
    "### 15. How do you get a list value&#39;s tuple form? How do you get a tuple value&#39;s list form?"
   ]
  },
  {
   "cell_type": "markdown",
   "id": "c4e96e70",
   "metadata": {},
   "source": [
    "Ans :- You get a list value's tuple and tuple value's list by using **type casting**. <br>\n",
    "Example :-"
   ]
  },
  {
   "cell_type": "code",
   "execution_count": 28,
   "id": "28b76036",
   "metadata": {},
   "outputs": [
    {
     "name": "stdout",
     "output_type": "stream",
     "text": [
      "<class 'tuple'>\n",
      "<class 'list'>\n"
     ]
    }
   ],
   "source": [
    "list1 = ['Shivam']\n",
    "a = tuple(list1) # type casting for converting list type into tuple.\n",
    "print(type(a))\n",
    "\n",
    "tuple1 = ('Shivam')\n",
    "a = list(tuple1) # type casting for converting tuple type into list.\n",
    "print(type(a))"
   ]
  },
  {
   "cell_type": "markdown",
   "id": "ab3a1af2",
   "metadata": {},
   "source": [
    "### 16. Variables that &quot;contain&quot; list values are not necessarily lists themselves. Instead, what do they contain?"
   ]
  },
  {
   "cell_type": "markdown",
   "id": "416ff202",
   "metadata": {},
   "source": [
    "Ans :- Variables that \"contain\" list values don't actually contain lists directly. Actually they contain **references** to list values."
   ]
  },
  {
   "cell_type": "markdown",
   "id": "8bd262e0",
   "metadata": {},
   "source": [
    "### 17. How do you distinguish between copy.copy() and copy.deepcopy()?"
   ]
  },
  {
   "cell_type": "markdown",
   "id": "52378d1e",
   "metadata": {},
   "source": [
    "Ans : - When we use the = operator, It only creates a new variable that shares the reference of the original object. In order to create “real copies” or “clones” of these objects, we can use the copy module in Python."
   ]
  },
  {
   "cell_type": "markdown",
   "id": "c1cec489",
   "metadata": {},
   "source": [
    "**copy.copy()** :- It is also known as shallow copy. A shallow copy creates a new compound object and then references the objects contained in the original within it, which means it constructs a new collection object and then populates it with references to the child objects found in the original."
   ]
  },
  {
   "cell_type": "markdown",
   "id": "90758225",
   "metadata": {},
   "source": [
    "**copy.deepcopy()** :- A deep copy creates a new compound object before inserting copies of the items found in the original into it in a recursive manner. It means first constructing a new collection object and then recursively populating it with copies of the child objects found in the original. "
   ]
  },
  {
   "cell_type": "markdown",
   "id": "611d3784",
   "metadata": {},
   "source": [
    "# Thank You"
   ]
  }
 ],
 "metadata": {
  "kernelspec": {
   "display_name": "Python 3 (ipykernel)",
   "language": "python",
   "name": "python3"
  },
  "language_info": {
   "codemirror_mode": {
    "name": "ipython",
    "version": 3
   },
   "file_extension": ".py",
   "mimetype": "text/x-python",
   "name": "python",
   "nbconvert_exporter": "python",
   "pygments_lexer": "ipython3",
   "version": "3.9.13"
  }
 },
 "nbformat": 4,
 "nbformat_minor": 5
}
