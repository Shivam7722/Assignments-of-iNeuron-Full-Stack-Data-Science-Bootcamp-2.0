{
 "cells": [
  {
   "cell_type": "markdown",
   "id": "b7132ea9",
   "metadata": {},
   "source": [
    "shivampal7722@gmail.com"
   ]
  },
  {
   "cell_type": "markdown",
   "id": "68fbe762",
   "metadata": {},
   "source": [
    "### 1. Why are functions advantageous to have in your programs?"
   ]
  },
  {
   "cell_type": "markdown",
   "id": "6687ba59",
   "metadata": {},
   "source": [
    "There are many advantages to used funcions in your program :-\n",
    "    1) It reduces the duplicacy from your programs,\n",
    "    2) With the uses of functions you can call a program many times.\n",
    "    3) It divided codes into separate blocks.\n",
    "    4) Reduce the time."
   ]
  },
  {
   "cell_type": "markdown",
   "id": "fd9bea92",
   "metadata": {},
   "source": [
    "### 2. When does the code in a function run: when it&#39;s specified or when it&#39;s called?"
   ]
  },
  {
   "cell_type": "markdown",
   "id": "e732d35e",
   "metadata": {},
   "source": [
    "Code in a function will run if fuction will called. It specified when requirement is big it decreases the complexity of program and it will called when it is needed."
   ]
  },
  {
   "cell_type": "markdown",
   "id": "f82a03b7",
   "metadata": {},
   "source": [
    "### 3. What statement creates a function?\n",
    "\n",
    "Ans :- def keyword is used to creates a function.\n",
    "\n",
    "**def function_name(): <br>\n",
    "        statements**"
   ]
  },
  {
   "cell_type": "markdown",
   "id": "2d907603",
   "metadata": {},
   "source": [
    "### 4. What is the difference between a function and a function call?"
   ]
  },
  {
   "cell_type": "markdown",
   "id": "5e035343",
   "metadata": {},
   "source": [
    "A function is a piece of code which is reusable as a multiple time while a fucntion call is calling or invoking the function code."
   ]
  },
  {
   "cell_type": "markdown",
   "id": "0d1b259f",
   "metadata": {},
   "source": [
    "### 5. How many global scopes are there in a Python program? How many local scopes?"
   ]
  },
  {
   "cell_type": "markdown",
   "id": "1603fb66",
   "metadata": {},
   "source": [
    "Only one global scopes are there in a python program and one local scopes are present in a python program."
   ]
  },
  {
   "cell_type": "markdown",
   "id": "328902c4",
   "metadata": {},
   "source": [
    "### 6. What happens to variables in a local scope when the function call returns?"
   ]
  },
  {
   "cell_type": "markdown",
   "id": "f9a45872",
   "metadata": {},
   "source": [
    "Variables in a local scope when the function call returns are **destroyed** because all local variables disappears after execution of function return."
   ]
  },
  {
   "cell_type": "markdown",
   "id": "e4d86db5",
   "metadata": {},
   "source": [
    "### 7. What is the concept of a return value? Is it possible to have a return value in an expression?"
   ]
  },
  {
   "cell_type": "markdown",
   "id": "c3a481fd",
   "metadata": {},
   "source": [
    "The concept of return value is a special concept that can usew inside a function for returning the resultant value of function to the function caller. Yes it is possible to have a return value in an expression."
   ]
  },
  {
   "cell_type": "markdown",
   "id": "41e35490",
   "metadata": {},
   "source": [
    "### 8. If a function does not have a return statement, what is the return value of a call to that function?"
   ]
  },
  {
   "cell_type": "markdown",
   "id": "021282e1",
   "metadata": {},
   "source": [
    "If a function does not have a return statement then return value will be NONE. "
   ]
  },
  {
   "cell_type": "markdown",
   "id": "a47950f9",
   "metadata": {},
   "source": [
    "### 9. How do you make a function variable refer to the global variable?"
   ]
  },
  {
   "cell_type": "markdown",
   "id": "abbebdc0",
   "metadata": {},
   "source": [
    "If we declare any variable inside any function then those variable known as local variable. If at the time of declaration of variable we use a keyword global before the variable, then the variable will called global variable."
   ]
  },
  {
   "cell_type": "markdown",
   "id": "72538433",
   "metadata": {},
   "source": [
    "### 10. What is the data type of None?"
   ]
  },
  {
   "cell_type": "markdown",
   "id": "35d2b1e6",
   "metadata": {},
   "source": [
    "The data type of None is NoneType."
   ]
  },
  {
   "cell_type": "markdown",
   "id": "1c56ab85",
   "metadata": {},
   "source": [
    "### 11. What does the sentence import areallyourpetsnamederic do?"
   ]
  },
  {
   "cell_type": "markdown",
   "id": "93843b7c",
   "metadata": {},
   "source": [
    "This import statement imports a module named areallyourpetsnamederic."
   ]
  },
  {
   "cell_type": "markdown",
   "id": "b8140dce",
   "metadata": {},
   "source": [
    "### 12. If you had a bacon() feature in a spam module, what would you call it after importing spam?"
   ]
  },
  {
   "cell_type": "markdown",
   "id": "bdcde6f7",
   "metadata": {},
   "source": [
    "It will called by spam.baccon()"
   ]
  },
  {
   "cell_type": "markdown",
   "id": "f5bb1b6a",
   "metadata": {},
   "source": [
    "### 13. What can you do to save a programme from crashing if it encounters an error?"
   ]
  },
  {
   "cell_type": "markdown",
   "id": "d5011f4c",
   "metadata": {},
   "source": [
    "We can use try for this type of problem, by placing those line of code in try clause."
   ]
  },
  {
   "cell_type": "markdown",
   "id": "44f3c49f",
   "metadata": {},
   "source": [
    "### 14. What is the purpose of the try clause? What is the purpose of the except clause?"
   ]
  },
  {
   "cell_type": "markdown",
   "id": "a48416f2",
   "metadata": {},
   "source": [
    "The code that could be cause an error goes in **try** clause and the line of code that executes error goes in the **except** clause."
   ]
  },
  {
   "cell_type": "markdown",
   "id": "2fe3cdd3",
   "metadata": {},
   "source": [
    "--------------\n",
    "--------------"
   ]
  },
  {
   "cell_type": "markdown",
   "id": "95eeb7b4",
   "metadata": {},
   "source": [
    "Thank You"
   ]
  }
 ],
 "metadata": {
  "kernelspec": {
   "display_name": "Python 3 (ipykernel)",
   "language": "python",
   "name": "python3"
  },
  "language_info": {
   "codemirror_mode": {
    "name": "ipython",
    "version": 3
   },
   "file_extension": ".py",
   "mimetype": "text/x-python",
   "name": "python",
   "nbconvert_exporter": "python",
   "pygments_lexer": "ipython3",
   "version": "3.9.13"
  }
 },
 "nbformat": 4,
 "nbformat_minor": 5
}
