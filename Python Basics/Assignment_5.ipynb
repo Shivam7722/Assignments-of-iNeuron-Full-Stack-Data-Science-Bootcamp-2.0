{
 "cells": [
  {
   "attachments": {},
   "cell_type": "markdown",
   "metadata": {},
   "source": [
    "shivampal7722@gmail.com"
   ]
  },
  {
   "attachments": {},
   "cell_type": "markdown",
   "metadata": {},
   "source": [
    "1. What does an empty dictionary&#39;s code look like?\n",
    "2. What is the value of a dictionary value with the key &#39;foo&#39; and the value 42?\n",
    "3. What is the most significant distinction between a dictionary and a list?\n",
    "4. What happens if you try to access spam[&#39;foo&#39;] if spam is {&#39;bar&#39;: 100}?\n",
    "5. If a dictionary is stored in spam, what is the difference between the expressions &#39;cat&#39; in spam and\n",
    "&#39;cat&#39; in spam.keys()?\n",
    "6. If a dictionary is stored in spam, what is the difference between the expressions &#39;cat&#39; in spam and\n",
    "&#39;cat&#39; in spam.values()?\n",
    "7. What is a shortcut for the following code?\n",
    "if &#39;color&#39; not in spam:\n",
    "spam[&#39;color&#39;] = &#39;black&#39;\n",
    "\n",
    "8. How do you &quot;pretty print&quot; dictionary values using which module and function?"
   ]
  },
  {
   "attachments": {},
   "cell_type": "markdown",
   "metadata": {},
   "source": [
    "## 1. What does an empty dictionary&#39;s code look like?"
   ]
  },
  {
   "cell_type": "code",
   "execution_count": 1,
   "metadata": {},
   "outputs": [],
   "source": [
    "# empty pair of dictionary\n",
    "\n",
    "dict()\n",
    "dict = {}"
   ]
  },
  {
   "attachments": {},
   "cell_type": "markdown",
   "metadata": {},
   "source": [
    "## 2. What is the value of a dictionary value with the key &#39;foo&#39; and the value 42?"
   ]
  },
  {
   "cell_type": "code",
   "execution_count": 2,
   "metadata": {},
   "outputs": [
    {
     "data": {
      "text/plain": [
       "{'foo': 42}"
      ]
     },
     "execution_count": 2,
     "metadata": {},
     "output_type": "execute_result"
    }
   ],
   "source": [
    "{'foo':42}"
   ]
  },
  {
   "attachments": {},
   "cell_type": "markdown",
   "metadata": {},
   "source": [
    "## 3. What is the most significant distinction between a dictionary and a list?"
   ]
  },
  {
   "attachments": {},
   "cell_type": "markdown",
   "metadata": {},
   "source": [
    "Dictionary is represented by {} whereas list is represent by [] and one more significant distinction is dictionary have key:value pair but list has only values.\n",
    "\n",
    "Example: <br>\n",
    "list = [1,2,3,5] <br>\n",
    "dictionary = {1:'S',2:'P'}"
   ]
  },
  {
   "attachments": {},
   "cell_type": "markdown",
   "metadata": {},
   "source": [
    "## 4. What happens if you try to access spam[&#39;foo&#39;] if spam is {&#39;bar&#39;: 100}?"
   ]
  },
  {
   "attachments": {},
   "cell_type": "markdown",
   "metadata": {},
   "source": [
    "It will through a keyError. <br>\n",
    "\n",
    "For Example :"
   ]
  },
  {
   "cell_type": "code",
   "execution_count": 4,
   "metadata": {},
   "outputs": [
    {
     "ename": "KeyError",
     "evalue": "'foo'",
     "output_type": "error",
     "traceback": [
      "\u001b[1;31m---------------------------------------------------------------------------\u001b[0m",
      "\u001b[1;31mKeyError\u001b[0m                                  Traceback (most recent call last)",
      "Cell \u001b[1;32mIn[4], line 2\u001b[0m\n\u001b[0;32m      1\u001b[0m spam \u001b[39m=\u001b[39m {\u001b[39m'\u001b[39m\u001b[39mbar\u001b[39m\u001b[39m'\u001b[39m : \u001b[39m100\u001b[39m}\n\u001b[1;32m----> 2\u001b[0m spam[\u001b[39m'\u001b[39;49m\u001b[39mfoo\u001b[39;49m\u001b[39m'\u001b[39;49m]\n",
      "\u001b[1;31mKeyError\u001b[0m: 'foo'"
     ]
    }
   ],
   "source": [
    "spam = {'bar' : 100}\n",
    "spam['foo']"
   ]
  },
  {
   "attachments": {},
   "cell_type": "markdown",
   "metadata": {},
   "source": [
    "## 5. If a dictionary is stored in spam, what is the difference between the expressions &#39;cat&#39; in spam and &#39;cat&#39; in spam.keys()?"
   ]
  },
  {
   "cell_type": "code",
   "execution_count": 7,
   "metadata": {},
   "outputs": [],
   "source": [
    "spam = {'cat':1}"
   ]
  },
  {
   "cell_type": "code",
   "execution_count": 8,
   "metadata": {},
   "outputs": [
    {
     "data": {
      "text/plain": [
       "True"
      ]
     },
     "execution_count": 8,
     "metadata": {},
     "output_type": "execute_result"
    }
   ],
   "source": [
    "'cat' in spam"
   ]
  },
  {
   "cell_type": "code",
   "execution_count": 10,
   "metadata": {},
   "outputs": [
    {
     "data": {
      "text/plain": [
       "True"
      ]
     },
     "execution_count": 10,
     "metadata": {},
     "output_type": "execute_result"
    }
   ],
   "source": [
    "'cat' in spam.keys()"
   ]
  },
  {
   "attachments": {},
   "cell_type": "markdown",
   "metadata": {},
   "source": [
    "There is no difference between them."
   ]
  },
  {
   "attachments": {},
   "cell_type": "markdown",
   "metadata": {},
   "source": [
    "## 6.  If a dictionary is stored in spam, what is the difference between the expressions &#39;cat&#39; in spam and &#39;cat&#39; in spam.values()?"
   ]
  },
  {
   "cell_type": "code",
   "execution_count": 11,
   "metadata": {},
   "outputs": [],
   "source": [
    "spam = {'cat': 1}"
   ]
  },
  {
   "cell_type": "code",
   "execution_count": 12,
   "metadata": {},
   "outputs": [
    {
     "data": {
      "text/plain": [
       "True"
      ]
     },
     "execution_count": 12,
     "metadata": {},
     "output_type": "execute_result"
    }
   ],
   "source": [
    "'cat' in spam"
   ]
  },
  {
   "cell_type": "code",
   "execution_count": 13,
   "metadata": {},
   "outputs": [
    {
     "data": {
      "text/plain": [
       "False"
      ]
     },
     "execution_count": 13,
     "metadata": {},
     "output_type": "execute_result"
    }
   ],
   "source": [
    "'cat' in spam.values()"
   ]
  },
  {
   "attachments": {},
   "cell_type": "markdown",
   "metadata": {},
   "source": [
    "Expression 'cat' in spam gives output True but cat in spam.values() gives output False because in dictionary 'cat' is a key not value. "
   ]
  },
  {
   "attachments": {},
   "cell_type": "markdown",
   "metadata": {},
   "source": [
    "## 7. What is a shortcut for the following code? <br>\n",
    "### if &#39;color&#39; not in spam: <br>\n",
    "### spam[&#39;color&#39;] = &#39;black&#39;\n"
   ]
  },
  {
   "cell_type": "code",
   "execution_count": 14,
   "metadata": {},
   "outputs": [],
   "source": [
    "spam = {'cat': 1}"
   ]
  },
  {
   "cell_type": "code",
   "execution_count": 15,
   "metadata": {},
   "outputs": [
    {
     "data": {
      "text/plain": [
       "'black'"
      ]
     },
     "execution_count": 15,
     "metadata": {},
     "output_type": "execute_result"
    }
   ],
   "source": [
    "spam.setdefault('color','black')"
   ]
  },
  {
   "cell_type": "code",
   "execution_count": 16,
   "metadata": {},
   "outputs": [
    {
     "data": {
      "text/plain": [
       "{'cat': 1, 'color': 'black'}"
      ]
     },
     "execution_count": 16,
     "metadata": {},
     "output_type": "execute_result"
    }
   ],
   "source": [
    "spam"
   ]
  },
  {
   "attachments": {},
   "cell_type": "markdown",
   "metadata": {},
   "source": [
    "## 8. How do you &quot;pretty print&quot; dictionary values using which module and function?"
   ]
  },
  {
   "attachments": {},
   "cell_type": "markdown",
   "metadata": {},
   "source": [
    "By importing pprint module. For example"
   ]
  },
  {
   "cell_type": "code",
   "execution_count": 17,
   "metadata": {},
   "outputs": [
    {
     "name": "stdout",
     "output_type": "stream",
     "text": [
      "{'a': 1, 'b': 2, 'c': 3, 'd': 4, 'e': 5}\n"
     ]
    }
   ],
   "source": [
    "import pprint as p\n",
    "dict_ = {'a':1, 'b':2, 'c':3, 'd':4, 'e':5}\n",
    "p.pprint(dict_)"
   ]
  },
  {
   "attachments": {},
   "cell_type": "markdown",
   "metadata": {},
   "source": [
    "________________________________________\n",
    "________________________________________"
   ]
  }
 ],
 "metadata": {
  "kernelspec": {
   "display_name": "ineuron",
   "language": "python",
   "name": "python3"
  },
  "language_info": {
   "codemirror_mode": {
    "name": "ipython",
    "version": 3
   },
   "file_extension": ".py",
   "mimetype": "text/x-python",
   "name": "python",
   "nbconvert_exporter": "python",
   "pygments_lexer": "ipython3",
   "version": "3.9.13"
  },
  "orig_nbformat": 4
 },
 "nbformat": 4,
 "nbformat_minor": 2
}
