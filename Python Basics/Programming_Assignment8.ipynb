{
 "cells": [
  {
   "attachments": {},
   "cell_type": "markdown",
   "metadata": {},
   "source": [
    "shivampal7722@gmail.com"
   ]
  },
  {
   "attachments": {},
   "cell_type": "markdown",
   "metadata": {},
   "source": [
    "1. Write a Python Program to Add Two Matrices?\n",
    "2. Write a Python Program to Multiply Two Matrices?\n",
    "3. Write a Python Program to Transpose a Matrix?\n",
    "4. Write a Python Program to Sort Words in Alphabetic Order?\n",
    "5. Write a Python Program to Remove Punctuation From a String?"
   ]
  },
  {
   "attachments": {},
   "cell_type": "markdown",
   "metadata": {},
   "source": [
    "### 1. Write a Python Program to Add Two Matrices?"
   ]
  },
  {
   "cell_type": "code",
   "execution_count": 2,
   "metadata": {},
   "outputs": [],
   "source": [
    "def matrix_addition(m1, m2):\n",
    "    #checking dimension of m1 and m2\n",
    "    if len(m1) != len(m2) or len(m1[0]) != len(m2[0]):\n",
    "        print(\"Cant performed addition operation because dimention of both matrix arfe not same.\")\n",
    "    else:\n",
    "        addition = [[m1[i][j] + m2[i][j] for j in range(len(m1[0]))] for i in range(len(m1))]\n",
    "\n",
    "    return addition"
   ]
  },
  {
   "cell_type": "code",
   "execution_count": 3,
   "metadata": {},
   "outputs": [
    {
     "data": {
      "text/plain": [
       "[[2, 4, 6, 8], [10, 12, 14, 16], [18, 20, 22, 24]]"
      ]
     },
     "execution_count": 3,
     "metadata": {},
     "output_type": "execute_result"
    }
   ],
   "source": [
    "m1 = [[1,2,3,4],\n",
    "      [5,6,7,8],\n",
    "      [9,10,11,12]]\n",
    "\n",
    "m2 = [[1,2,3,4],\n",
    "      [5,6,7,8],\n",
    "      [9,10,11,12]]\n",
    "\n",
    "matrix_addition(m1,m2)"
   ]
  },
  {
   "attachments": {},
   "cell_type": "markdown",
   "metadata": {},
   "source": [
    "### 2. Write a Python Program to Multiply Two Matrices?"
   ]
  },
  {
   "cell_type": "code",
   "execution_count": 4,
   "metadata": {},
   "outputs": [],
   "source": [
    "def matrix_mul(m1, m2):\n",
    "    #checking dimension of m1 and m2\n",
    "    if len(m1) != len(m2) or len(m1[0]) != len(m2[0]):\n",
    "        print(\"Cant performed addition operation because dimention of both matrix arfe not same.\")\n",
    "    else:\n",
    "        multi = [[m1[i][j] * m2[i][j] for j in range(len(m1[0]))] for i in range(len(m1))]\n",
    "\n",
    "    return multi"
   ]
  },
  {
   "cell_type": "code",
   "execution_count": 5,
   "metadata": {},
   "outputs": [
    {
     "data": {
      "text/plain": [
       "[[1, 4, 9, 16], [25, 36, 49, 64], [81, 100, 121, 144]]"
      ]
     },
     "execution_count": 5,
     "metadata": {},
     "output_type": "execute_result"
    }
   ],
   "source": [
    "m1 = [[1,2,3,4],\n",
    "      [5,6,7,8],\n",
    "      [9,10,11,12]]\n",
    "\n",
    "m2 = [[1,2,3,4],\n",
    "      [5,6,7,8],\n",
    "      [9,10,11,12]]\n",
    "\n",
    "matrix_mul(m1,m2)"
   ]
  },
  {
   "attachments": {},
   "cell_type": "markdown",
   "metadata": {},
   "source": [
    "### 3. Write a Python Program to Transpose a Matrix?"
   ]
  },
  {
   "cell_type": "code",
   "execution_count": 13,
   "metadata": {},
   "outputs": [],
   "source": [
    "def matrix_transp(mat):\n",
    "    #creating an empty matrix\n",
    "    t_mat = [[0]*len(mat) for i in range(len(mat[0]))]\n",
    "    for i in range(len(mat)):\n",
    "        for j in range(len(mat)):\n",
    "            t_mat[j][i] = mat[i][j]\n",
    "    return t_mat"
   ]
  },
  {
   "cell_type": "code",
   "execution_count": 15,
   "metadata": {},
   "outputs": [
    {
     "data": {
      "text/plain": [
       "[[1, 5, 9], [2, 6, 10], [3, 7, 11], [0, 0, 0]]"
      ]
     },
     "execution_count": 15,
     "metadata": {},
     "output_type": "execute_result"
    }
   ],
   "source": [
    "mat = [[1,2,3,4],\n",
    "      [5,6,7,8],\n",
    "      [9,10,11,12]]\n",
    "\n",
    "matrix_transp(mat)"
   ]
  },
  {
   "attachments": {},
   "cell_type": "markdown",
   "metadata": {},
   "source": [
    "### 4. Write a Python Program to Sort Words in Alphabetic Order?"
   ]
  },
  {
   "cell_type": "code",
   "execution_count": 17,
   "metadata": {},
   "outputs": [],
   "source": [
    "def sort_words(words):\n",
    "    words = sorted(words)\n",
    "    return words"
   ]
  },
  {
   "cell_type": "code",
   "execution_count": 18,
   "metadata": {},
   "outputs": [
    {
     "data": {
      "text/plain": [
       "['Chetan', 'Deepak', 'Dhirendra', 'Ram', 'Shera', 'Shivam']"
      ]
     },
     "execution_count": 18,
     "metadata": {},
     "output_type": "execute_result"
    }
   ],
   "source": [
    "words = ['Shivam', 'Ram', 'Shera', 'Dhirendra', 'Chetan', 'Deepak']\n",
    "sort_words(words)"
   ]
  },
  {
   "attachments": {},
   "cell_type": "markdown",
   "metadata": {},
   "source": [
    "### 5. Write a Python Program to Remove Punctuation From a String?"
   ]
  },
  {
   "cell_type": "code",
   "execution_count": 19,
   "metadata": {},
   "outputs": [],
   "source": [
    "def rem_punc(string):\n",
    "    punct = '''!\"#$%&'()*+,-./:;<=>?@[\\]^_`{|}~'''\n",
    "    result = ''\n",
    "    for i in string:\n",
    "        if i not in punct:\n",
    "            result = result+i\n",
    "    return result"
   ]
  },
  {
   "cell_type": "code",
   "execution_count": 20,
   "metadata": {},
   "outputs": [
    {
     "data": {
      "text/plain": [
       "'Hi Iam Shivam pal'"
      ]
     },
     "execution_count": 20,
     "metadata": {},
     "output_type": "execute_result"
    }
   ],
   "source": [
    "string = input(\"Please enter any string: \")\n",
    "rem_punc(string)"
   ]
  },
  {
   "attachments": {},
   "cell_type": "markdown",
   "metadata": {},
   "source": [
    "------------\n",
    "------------"
   ]
  },
  {
   "attachments": {},
   "cell_type": "markdown",
   "metadata": {},
   "source": [
    "Thank You"
   ]
  }
 ],
 "metadata": {
  "kernelspec": {
   "display_name": "ineuron",
   "language": "python",
   "name": "python3"
  },
  "language_info": {
   "codemirror_mode": {
    "name": "ipython",
    "version": 3
   },
   "file_extension": ".py",
   "mimetype": "text/x-python",
   "name": "python",
   "nbconvert_exporter": "python",
   "pygments_lexer": "ipython3",
   "version": "3.9.13"
  },
  "orig_nbformat": 4
 },
 "nbformat": 4,
 "nbformat_minor": 2
}
