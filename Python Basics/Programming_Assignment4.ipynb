{
 "cells": [
  {
   "cell_type": "markdown",
   "id": "724782a4-265c-40bd-9253-fdd9576dc229",
   "metadata": {},
   "source": [
    "shivampal7722@gmail.com"
   ]
  },
  {
   "cell_type": "markdown",
   "id": "1494c63b-7f71-47ac-ba5a-c71ac24ea27a",
   "metadata": {},
   "source": [
    "### 1. Write a Python Program to Find the Factorial of a Number?"
   ]
  },
  {
   "cell_type": "code",
   "execution_count": 1,
   "id": "7d15d73b-46f4-49b5-9efd-581e9860564c",
   "metadata": {},
   "outputs": [
    {
     "name": "stdin",
     "output_type": "stream",
     "text": [
      "Please enter any number :  5\n"
     ]
    },
    {
     "name": "stdout",
     "output_type": "stream",
     "text": [
      "120\n"
     ]
    }
   ],
   "source": [
    "a = int(input('Please enter any number : '))\n",
    "fac = 1\n",
    "for i in range(a+1):\n",
    "    if i>0:\n",
    "        fac = fac*i\n",
    "print(fac)"
   ]
  },
  {
   "cell_type": "markdown",
   "id": "04e5ce67-70dd-48b6-a987-2831af3c66b5",
   "metadata": {},
   "source": [
    "### 2. Write a Python Program to Display the multiplication Table?"
   ]
  },
  {
   "cell_type": "code",
   "execution_count": 2,
   "id": "79e7542a-9433-4fbf-842a-e670248951ab",
   "metadata": {},
   "outputs": [
    {
     "name": "stdin",
     "output_type": "stream",
     "text": [
      "Please enter a number :  5\n"
     ]
    },
    {
     "name": "stdout",
     "output_type": "stream",
     "text": [
      "5 * 1 =  5\n",
      "5 * 2 =  10\n",
      "5 * 3 =  15\n",
      "5 * 4 =  20\n",
      "5 * 5 =  25\n",
      "5 * 6 =  30\n",
      "5 * 7 =  35\n",
      "5 * 8 =  40\n",
      "5 * 9 =  45\n",
      "5 * 10 =  50\n"
     ]
    }
   ],
   "source": [
    "a = int(input('Please enter a number : '))\n",
    "for i in range(11):\n",
    "    if i>0:\n",
    "        print(f'{a} * {i} = ',a*i)"
   ]
  },
  {
   "cell_type": "markdown",
   "id": "376b4519-bf23-4756-baf0-bd3b67243552",
   "metadata": {},
   "source": [
    "### 3. Write a Python Program to Print the Fibonacci sequence?"
   ]
  },
  {
   "cell_type": "code",
   "execution_count": 3,
   "id": "8492cde7-8fed-4ee9-9758-5e59b1a3fcd4",
   "metadata": {},
   "outputs": [
    {
     "name": "stdin",
     "output_type": "stream",
     "text": [
      "Please enter length of fibonacci sequence :  10\n"
     ]
    },
    {
     "name": "stdout",
     "output_type": "stream",
     "text": [
      "0\n",
      "1\n",
      "1\n",
      "2\n",
      "3\n",
      "5\n",
      "8\n",
      "13\n",
      "21\n",
      "34\n"
     ]
    }
   ],
   "source": [
    "num = int(input('Please enter length of fibonacci sequence : '))\n",
    "a = 0\n",
    "b = 1\n",
    "c = a+b\n",
    "print(a)\n",
    "print(b)\n",
    "print(c)\n",
    "for i in range(num-3):\n",
    "    a = b\n",
    "    b = c\n",
    "    c = a+b\n",
    "    print(c)  "
   ]
  },
  {
   "cell_type": "markdown",
   "id": "418d7e35-5145-4b54-8a47-ffe8ad0ca1ef",
   "metadata": {},
   "source": [
    "### 4. Write a Python Program to Check Armstrong Number?"
   ]
  },
  {
   "cell_type": "code",
   "execution_count": 7,
   "id": "f39371f0-f4f0-4eeb-b2bc-67c21d02b72d",
   "metadata": {},
   "outputs": [
    {
     "name": "stdin",
     "output_type": "stream",
     "text": [
      "Please enter a number :  407\n"
     ]
    },
    {
     "name": "stdout",
     "output_type": "stream",
     "text": [
      "407 is a armstrong number.\n"
     ]
    }
   ],
   "source": [
    "a = input('Please enter a number : ')\n",
    "b = [int(i) for i in a]\n",
    "c  = 0\n",
    "\n",
    "for j in b:\n",
    "    c = c+j**len(b)\n",
    "    \n",
    "if c == int(a):\n",
    "    print(f'{a} is a armstrong number.')\n",
    "else:\n",
    "    print(f'{a} is not a armstrong number.')"
   ]
  },
  {
   "cell_type": "markdown",
   "id": "f43784d8-c38d-4efa-b4e7-d78a159add6b",
   "metadata": {},
   "source": [
    "### 5. Write a Python Program to Find Armstrong Number in an Interval?"
   ]
  },
  {
   "cell_type": "code",
   "execution_count": 9,
   "id": "3ea27da6-1a8e-45b9-9d3a-0b0a31c14f5b",
   "metadata": {},
   "outputs": [
    {
     "name": "stdin",
     "output_type": "stream",
     "text": [
      "Please enter the lower limit :  20\n",
      "Please enter the upper limit :  30\n"
     ]
    },
    {
     "name": "stdout",
     "output_type": "stream",
     "text": [
      "20\n",
      "21\n",
      "22\n",
      "23\n",
      "24\n",
      "25\n",
      "26\n",
      "27\n",
      "28\n",
      "29\n",
      "30\n"
     ]
    }
   ],
   "source": [
    "lower = int(input('Please enter the lower limit : '))\n",
    "upper = int(input('Please enter the upper limit : '))\n",
    "for i in range(lower,upper+1):\n",
    "    print(i)"
   ]
  },
  {
   "cell_type": "code",
   "execution_count": 12,
   "id": "9f533123-937b-4ba9-a8ab-1c98e4cd692c",
   "metadata": {},
   "outputs": [
    {
     "name": "stdin",
     "output_type": "stream",
     "text": [
      "Please enter the lower limit :  300\n",
      "Please enter the upper limit :  500\n"
     ]
    },
    {
     "name": "stdout",
     "output_type": "stream",
     "text": [
      "300 is not a armstrong number.\n",
      "301 is not a armstrong number.\n",
      "302 is not a armstrong number.\n",
      "303 is not a armstrong number.\n",
      "304 is not a armstrong number.\n",
      "305 is not a armstrong number.\n",
      "306 is not a armstrong number.\n",
      "307 is not a armstrong number.\n",
      "308 is not a armstrong number.\n",
      "309 is not a armstrong number.\n",
      "310 is not a armstrong number.\n",
      "311 is not a armstrong number.\n",
      "312 is not a armstrong number.\n",
      "313 is not a armstrong number.\n",
      "314 is not a armstrong number.\n",
      "315 is not a armstrong number.\n",
      "316 is not a armstrong number.\n",
      "317 is not a armstrong number.\n",
      "318 is not a armstrong number.\n",
      "319 is not a armstrong number.\n",
      "320 is not a armstrong number.\n",
      "321 is not a armstrong number.\n",
      "322 is not a armstrong number.\n",
      "323 is not a armstrong number.\n",
      "324 is not a armstrong number.\n",
      "325 is not a armstrong number.\n",
      "326 is not a armstrong number.\n",
      "327 is not a armstrong number.\n",
      "328 is not a armstrong number.\n",
      "329 is not a armstrong number.\n",
      "330 is not a armstrong number.\n",
      "331 is not a armstrong number.\n",
      "332 is not a armstrong number.\n",
      "333 is not a armstrong number.\n",
      "334 is not a armstrong number.\n",
      "335 is not a armstrong number.\n",
      "336 is not a armstrong number.\n",
      "337 is not a armstrong number.\n",
      "338 is not a armstrong number.\n",
      "339 is not a armstrong number.\n",
      "340 is not a armstrong number.\n",
      "341 is not a armstrong number.\n",
      "342 is not a armstrong number.\n",
      "343 is not a armstrong number.\n",
      "344 is not a armstrong number.\n",
      "345 is not a armstrong number.\n",
      "346 is not a armstrong number.\n",
      "347 is not a armstrong number.\n",
      "348 is not a armstrong number.\n",
      "349 is not a armstrong number.\n",
      "350 is not a armstrong number.\n",
      "351 is not a armstrong number.\n",
      "352 is not a armstrong number.\n",
      "353 is not a armstrong number.\n",
      "354 is not a armstrong number.\n",
      "355 is not a armstrong number.\n",
      "356 is not a armstrong number.\n",
      "357 is not a armstrong number.\n",
      "358 is not a armstrong number.\n",
      "359 is not a armstrong number.\n",
      "360 is not a armstrong number.\n",
      "361 is not a armstrong number.\n",
      "362 is not a armstrong number.\n",
      "363 is not a armstrong number.\n",
      "364 is not a armstrong number.\n",
      "365 is not a armstrong number.\n",
      "366 is not a armstrong number.\n",
      "367 is not a armstrong number.\n",
      "368 is not a armstrong number.\n",
      "369 is not a armstrong number.\n",
      "370 is a armstrong number.\n",
      "371 is a armstrong number.\n",
      "372 is not a armstrong number.\n",
      "373 is not a armstrong number.\n",
      "374 is not a armstrong number.\n",
      "375 is not a armstrong number.\n",
      "376 is not a armstrong number.\n",
      "377 is not a armstrong number.\n",
      "378 is not a armstrong number.\n",
      "379 is not a armstrong number.\n",
      "380 is not a armstrong number.\n",
      "381 is not a armstrong number.\n",
      "382 is not a armstrong number.\n",
      "383 is not a armstrong number.\n",
      "384 is not a armstrong number.\n",
      "385 is not a armstrong number.\n",
      "386 is not a armstrong number.\n",
      "387 is not a armstrong number.\n",
      "388 is not a armstrong number.\n",
      "389 is not a armstrong number.\n",
      "390 is not a armstrong number.\n",
      "391 is not a armstrong number.\n",
      "392 is not a armstrong number.\n",
      "393 is not a armstrong number.\n",
      "394 is not a armstrong number.\n",
      "395 is not a armstrong number.\n",
      "396 is not a armstrong number.\n",
      "397 is not a armstrong number.\n",
      "398 is not a armstrong number.\n",
      "399 is not a armstrong number.\n",
      "400 is not a armstrong number.\n",
      "401 is not a armstrong number.\n",
      "402 is not a armstrong number.\n",
      "403 is not a armstrong number.\n",
      "404 is not a armstrong number.\n",
      "405 is not a armstrong number.\n",
      "406 is not a armstrong number.\n",
      "407 is a armstrong number.\n",
      "408 is not a armstrong number.\n",
      "409 is not a armstrong number.\n",
      "410 is not a armstrong number.\n",
      "411 is not a armstrong number.\n",
      "412 is not a armstrong number.\n",
      "413 is not a armstrong number.\n",
      "414 is not a armstrong number.\n",
      "415 is not a armstrong number.\n",
      "416 is not a armstrong number.\n",
      "417 is not a armstrong number.\n",
      "418 is not a armstrong number.\n",
      "419 is not a armstrong number.\n",
      "420 is not a armstrong number.\n",
      "421 is not a armstrong number.\n",
      "422 is not a armstrong number.\n",
      "423 is not a armstrong number.\n",
      "424 is not a armstrong number.\n",
      "425 is not a armstrong number.\n",
      "426 is not a armstrong number.\n",
      "427 is not a armstrong number.\n",
      "428 is not a armstrong number.\n",
      "429 is not a armstrong number.\n",
      "430 is not a armstrong number.\n",
      "431 is not a armstrong number.\n",
      "432 is not a armstrong number.\n",
      "433 is not a armstrong number.\n",
      "434 is not a armstrong number.\n",
      "435 is not a armstrong number.\n",
      "436 is not a armstrong number.\n",
      "437 is not a armstrong number.\n",
      "438 is not a armstrong number.\n",
      "439 is not a armstrong number.\n",
      "440 is not a armstrong number.\n",
      "441 is not a armstrong number.\n",
      "442 is not a armstrong number.\n",
      "443 is not a armstrong number.\n",
      "444 is not a armstrong number.\n",
      "445 is not a armstrong number.\n",
      "446 is not a armstrong number.\n",
      "447 is not a armstrong number.\n",
      "448 is not a armstrong number.\n",
      "449 is not a armstrong number.\n",
      "450 is not a armstrong number.\n",
      "451 is not a armstrong number.\n",
      "452 is not a armstrong number.\n",
      "453 is not a armstrong number.\n",
      "454 is not a armstrong number.\n",
      "455 is not a armstrong number.\n",
      "456 is not a armstrong number.\n",
      "457 is not a armstrong number.\n",
      "458 is not a armstrong number.\n",
      "459 is not a armstrong number.\n",
      "460 is not a armstrong number.\n",
      "461 is not a armstrong number.\n",
      "462 is not a armstrong number.\n",
      "463 is not a armstrong number.\n",
      "464 is not a armstrong number.\n",
      "465 is not a armstrong number.\n",
      "466 is not a armstrong number.\n",
      "467 is not a armstrong number.\n",
      "468 is not a armstrong number.\n",
      "469 is not a armstrong number.\n",
      "470 is not a armstrong number.\n",
      "471 is not a armstrong number.\n",
      "472 is not a armstrong number.\n",
      "473 is not a armstrong number.\n",
      "474 is not a armstrong number.\n",
      "475 is not a armstrong number.\n",
      "476 is not a armstrong number.\n",
      "477 is not a armstrong number.\n",
      "478 is not a armstrong number.\n",
      "479 is not a armstrong number.\n",
      "480 is not a armstrong number.\n",
      "481 is not a armstrong number.\n",
      "482 is not a armstrong number.\n",
      "483 is not a armstrong number.\n",
      "484 is not a armstrong number.\n",
      "485 is not a armstrong number.\n",
      "486 is not a armstrong number.\n",
      "487 is not a armstrong number.\n",
      "488 is not a armstrong number.\n",
      "489 is not a armstrong number.\n",
      "490 is not a armstrong number.\n",
      "491 is not a armstrong number.\n",
      "492 is not a armstrong number.\n",
      "493 is not a armstrong number.\n",
      "494 is not a armstrong number.\n",
      "495 is not a armstrong number.\n",
      "496 is not a armstrong number.\n",
      "497 is not a armstrong number.\n",
      "498 is not a armstrong number.\n",
      "499 is not a armstrong number.\n",
      "500 is not a armstrong number.\n"
     ]
    }
   ],
   "source": [
    "lower = int(input('Please enter the lower limit : '))\n",
    "upper = int(input('Please enter the upper limit : '))\n",
    "for i in range(lower,upper+1):\n",
    "    a = str(i)\n",
    "    b = [int(i) for i in a]\n",
    "    c  = 0\n",
    "\n",
    "    for j in b:\n",
    "        c = c+j**len(b)\n",
    "    if c == int(a):\n",
    "        print(f'{a} is a armstrong number.')\n",
    "    else:\n",
    "        print(f'{a} is not a armstrong number.')\n",
    "    "
   ]
  },
  {
   "cell_type": "markdown",
   "id": "2cf621db-35d7-4193-9d23-d1dd676b3317",
   "metadata": {},
   "source": [
    "### 6. Write a Python Program to Find the Sum of Natural Numbers?"
   ]
  },
  {
   "cell_type": "code",
   "execution_count": 21,
   "id": "969ccc35-0659-4e4b-8565-86fe55428e44",
   "metadata": {},
   "outputs": [
    {
     "name": "stdin",
     "output_type": "stream",
     "text": [
      "Please enter the range :  100\n"
     ]
    },
    {
     "name": "stdout",
     "output_type": "stream",
     "text": [
      "Sum of first 100 natural numbers = 5050\n"
     ]
    }
   ],
   "source": [
    "a = int(input('Please enter the range : '))\n",
    "sum = 0\n",
    "for i in range(a+1):\n",
    "    if i>0:\n",
    "        sum = sum+i\n",
    "print(f'Sum of first {a} natural numbers = {sum}') \n",
    "    "
   ]
  },
  {
   "cell_type": "markdown",
   "id": "9112dcbf-4a0b-4bf8-8a9f-f926f0a224b2",
   "metadata": {},
   "source": [
    "# Thank You"
   ]
  }
 ],
 "metadata": {
  "kernelspec": {
   "display_name": "Python 3 (ipykernel)",
   "language": "python",
   "name": "python3"
  },
  "language_info": {
   "codemirror_mode": {
    "name": "ipython",
    "version": 3
   },
   "file_extension": ".py",
   "mimetype": "text/x-python",
   "name": "python",
   "nbconvert_exporter": "python",
   "pygments_lexer": "ipython3",
   "version": "3.10.6"
  }
 },
 "nbformat": 4,
 "nbformat_minor": 5
}
