{
 "cells": [
  {
   "cell_type": "markdown",
   "id": "b34ae53f",
   "metadata": {},
   "source": [
    "shivampal7722@gmail.com"
   ]
  },
  {
   "cell_type": "markdown",
   "id": "1eb73c70",
   "metadata": {},
   "source": [
    "### 1.What are the two values of the Boolean data type? How do you write them?\n",
    "\n",
    "**Ans :-** True and False are the two values of Boolean data type.\n"
   ]
  },
  {
   "cell_type": "markdown",
   "id": "44dc6f48",
   "metadata": {},
   "source": [
    "### 2. What are the three different types of Boolean operators?\n",
    "\n",
    "**Ans :-** Three different types of Boolean operators are : <br>\n",
    "1) AND <br> \n",
    "2) OR  <br>\n",
    "3) NOT"
   ]
  },
  {
   "cell_type": "markdown",
   "id": "764d71a7",
   "metadata": {},
   "source": [
    "### 3. Make a list of each Boolean operator&#39;s truth tables (i.e. every possible combination of Boolean values for the operator and what it evaluate ).\n",
    "\n",
    "**Ans :-** A & B are Inputs and Y is the Output\n",
    "<table>\n",
    "  <thead>AND Table\n",
    "    <tr>\n",
    "      <th>A</th>\n",
    "      <th>B</th>\n",
    "       <th>Y</th>\n",
    "    </tr>\n",
    "  </thead>\n",
    "  <tbody>\n",
    "    <tr>\n",
    "      <td>0</td>\n",
    "      <td>0</td>\n",
    "      <td>0</td>\n",
    "    </tr>\n",
    "    <tr>\n",
    "      <td>0</td>\n",
    "      <td>1</td>\n",
    "      <td>0</td>\n",
    "    </tr>\n",
    "     <tr>\n",
    "      <td>1</td>\n",
    "      <td>0</td>\n",
    "      <td>0</td>\n",
    "    </tr>\n",
    "      <tr>\n",
    "      <td>1</td>\n",
    "      <td>1</td>\n",
    "      <td>1</td>\n",
    "    </tr>\n",
    "  </tbody>\n",
    "</table>\n",
    "\n",
    "<table>\n",
    "  <thead>OR Table\n",
    "    <tr>\n",
    "      <th>A</th>\n",
    "      <th>B</th>\n",
    "       <th>Y</th>\n",
    "    </tr>\n",
    "  </thead>\n",
    "  <tbody>\n",
    "    <tr>\n",
    "      <td>0</td>\n",
    "      <td>0</td>\n",
    "      <td>0</td>\n",
    "    </tr>\n",
    "    <tr>\n",
    "      <td>0</td>\n",
    "      <td>1</td>\n",
    "      <td>1</td>\n",
    "    </tr>\n",
    "     <tr>\n",
    "      <td>1</td>\n",
    "      <td>0</td>\n",
    "      <td>1</td>\n",
    "    </tr>\n",
    "      <tr>\n",
    "      <td>1</td>\n",
    "      <td>1</td>\n",
    "      <td>1</td>\n",
    "    </tr>\n",
    "  </tbody>\n",
    "</table>\n",
    "\n",
    "<table>\n",
    "  <thead>NOT Table\n",
    "    <tr>\n",
    "      <th>A</th>\n",
    "       <th>Y</th>\n",
    "    </tr>\n",
    "  </thead>\n",
    "  <tbody>\n",
    "    <tr>\n",
    "      <td>0</td>\n",
    "      <td>1</td>\n",
    "    </tr>\n",
    "    <tr>\n",
    "      <td>1</td>\n",
    "      <td>0</td>\n",
    "    </tr>\n",
    "  </tbody>\n",
    "</table>"
   ]
  },
  {
   "cell_type": "markdown",
   "id": "1d52568c",
   "metadata": {},
   "source": [
    "### 4. What are the values of the following expressions?\n",
    "(5 > 4) and (3 == 5) <br>\n",
    "not (5 > 4) <br>\n",
    "(5 > 4) or (3 == 5) <br>\n",
    "not ((5 > 4) or (3 == 5)) <br>\n",
    "(True and True) and (True == False) <br>\n",
    "(not False) or (not True)\n",
    "\n",
    "**Ans:-** <br>\n",
    "(5 > 4) and (3 == 5)  --> **False**<br>\n",
    "not (5 > 4) --> **False**<br>\n",
    "(5 > 4) or (3 == 5) --> **True** <br>\n",
    "not ((5 > 4) or (3 == 5)) --> **False**<br>\n",
    "(True and True) and (True == False) --> **False** <br>\n",
    "(not False) or (not True) --> **True**"
   ]
  },
  {
   "cell_type": "code",
   "execution_count": 1,
   "id": "bfe5c028",
   "metadata": {},
   "outputs": [
    {
     "name": "stdout",
     "output_type": "stream",
     "text": [
      "False\n",
      "False\n",
      "True\n",
      "False\n",
      "False\n",
      "True\n"
     ]
    }
   ],
   "source": [
    "print((5 > 4) and (3 == 5))\n",
    "print(not (5 > 4))\n",
    "print((5 > 4) or (3 == 5))\n",
    "print(not ((5 > 4) or (3 == 5)))\n",
    "print((True and True) and (True == False))\n",
    "print((not False) or (not True))"
   ]
  },
  {
   "cell_type": "markdown",
   "id": "46155ce2",
   "metadata": {},
   "source": [
    "### 5. What are the six comparison operators?\n",
    "\n",
    "**Ans :-** Six comparison operators are as follows :\n",
    "* Equal to ( == )\n",
    "* Not equal to ( != )\n",
    "* Less than ( < )\n",
    "* Greater than ( > )\n",
    "* Less than or equal to ( <= )\n",
    "* Greater than or equal to ( >= )"
   ]
  },
  {
   "cell_type": "markdown",
   "id": "964d1b59",
   "metadata": {},
   "source": [
    "### 6. How do you tell the difference between the equal to and assignment operators?Describe a condition and when you would use one."
   ]
  },
  {
   "cell_type": "markdown",
   "id": "69c3b54f",
   "metadata": {},
   "source": [
    "**Ans :-** The main difference between the equal to and assignment operator are as follows :-\n",
    "1) equal to operator is denoted by double equal sign '==' whereas assignment opeartor is denoted by single equal sign '='. <br>\n",
    "2) equal to operator is used to comparing two variables whereas assignment operator is used to assign any value into initialized variables.\n",
    "\n",
    "for example :"
   ]
  },
  {
   "cell_type": "code",
   "execution_count": 2,
   "id": "8134e129",
   "metadata": {},
   "outputs": [
    {
     "name": "stdout",
     "output_type": "stream",
     "text": [
      "a and b are equal\n"
     ]
    }
   ],
   "source": [
    "#Program to check the value of a and b are equal or not ?\n",
    "\n",
    "a = 10     # here = is a assignment operator\n",
    "b = 10     # here = is a assignment operator\n",
    "if a == b: # here == is a equal to operator\n",
    "    print(\"a and b are equal\")\n",
    "else:\n",
    "    print(\"a and b are not equal\")\n",
    "\n"
   ]
  },
  {
   "cell_type": "markdown",
   "id": "627c5f8e",
   "metadata": {},
   "source": [
    "### 7. Identify the three blocks in this code: <br>\n",
    "spam = 0 <br>\n",
    "if spam == 10: <br>\n",
    "print(&#39;eggs&#39;) <br>\n",
    "if spam &gt; 5: <br>\n",
    "print(&#39;bacon&#39;) <br>\n",
    "else: <br>\n",
    "print(&#39;ham&#39;) <br>\n",
    "print(&#39;spam&#39;) <br>\n",
    "print(&#39;spam&#39;) <br>\n",
    "<br>\n",
    "**Ans :**"
   ]
  },
  {
   "cell_type": "markdown",
   "id": "73aee808",
   "metadata": {},
   "source": [
    "spam = 0 <br>\n",
    "<br>\n",
    "**FIRST BLOCK :** <br>\n",
    "if spam == 10: <br>\n",
    "print(&#39;eggs&#39;) <br>\n",
    "----------------------------------------\n",
    "--------------------------------------\n",
    "\n",
    "**SECOND BLOCK :** <br>\n",
    "if spam &gt; 5: <br>\n",
    "print(&#39;bacon&#39;) <br>\n",
    "----------------------------------------\n",
    "--------------------------------------\n",
    "\n",
    "**THIRD BLOCK :**<br>\n",
    "else: <br>\n",
    "print(&#39;ham&#39;) <br>\n",
    "print(&#39;spam&#39;) <br>\n",
    "print(&#39;spam&#39;) <br>\n",
    "----------------------------------------\n",
    "--------------------------------------"
   ]
  },
  {
   "cell_type": "markdown",
   "id": "62b4970f",
   "metadata": {},
   "source": [
    "### 8. Write code that prints Hello if 1 is stored in spam, prints Howdy if 2 is stored in spam, and prints Greetings! if anything else is stored in spam."
   ]
  },
  {
   "cell_type": "code",
   "execution_count": 3,
   "id": "73d907f2",
   "metadata": {},
   "outputs": [
    {
     "name": "stdout",
     "output_type": "stream",
     "text": [
      "Please enter any value : 2\n",
      "Howdy\n"
     ]
    }
   ],
   "source": [
    "spam = int(input(\"Please enter any value : \"))\n",
    "if spam == 1:\n",
    "    print(\"Hello\")\n",
    "elif spam == 2:\n",
    "    print(\"Howdy\")\n",
    "else:\n",
    "    print(\"Greetings!\")"
   ]
  },
  {
   "cell_type": "markdown",
   "id": "7fad38f7",
   "metadata": {},
   "source": [
    "### 9.If your programme is stuck in an endless loop, what keys you’ll press?\n",
    "\n",
    "**Ans :-** \n",
    "We can press the \"CTRL + C\" for intru"
   ]
  },
  {
   "cell_type": "code",
   "execution_count": null,
   "id": "8b2c6606",
   "metadata": {},
   "outputs": [],
   "source": [
    "#Programm of infinite loop\n",
    "a = 10\n",
    "b = 20\n",
    "while a<b:\n",
    "    print(\"Jai Hind\")"
   ]
  },
  {
   "cell_type": "markdown",
   "id": "06a44fab",
   "metadata": {},
   "source": [
    "### 10. How can you tell the difference between break and continue?\n",
    "**Ans :-** break keyword is used to terminate the current loop. Whereas continue keyword is used to skip the particular step in current loop.\n",
    "\n",
    "Example :"
   ]
  },
  {
   "cell_type": "code",
   "execution_count": 4,
   "id": "25ace1db",
   "metadata": {},
   "outputs": [
    {
     "name": "stdout",
     "output_type": "stream",
     "text": [
      "0\n",
      "2\n",
      "4\n",
      "6\n",
      "8\n",
      "10\n",
      "12\n",
      "14\n",
      "16\n",
      "18\n",
      "20\n",
      "22\n",
      "24\n",
      "26\n",
      "28\n",
      "30\n",
      "32\n",
      "34\n",
      "36\n",
      "38\n",
      "40\n",
      "42\n",
      "44\n",
      "46\n",
      "48\n"
     ]
    }
   ],
   "source": [
    "a = 100\n",
    "for i in range(a):\n",
    "    if i <= 100:\n",
    "        if i == 50:\n",
    "            break        # terminate the Program when i == 50\n",
    "        elif i%2 == 0:\n",
    "            print(i)\n",
    "        else:\n",
    "            continue     # skip the odd numbers"
   ]
  },
  {
   "cell_type": "markdown",
   "id": "227d6387",
   "metadata": {},
   "source": [
    "### 11. In a for loop, what is the difference between range(10), range(0, 10), and range(0, 10, 1)?"
   ]
  },
  {
   "cell_type": "markdown",
   "id": "efadc133",
   "metadata": {},
   "source": [
    "**Ans :-** Nothing is different in between those three methods : range(10), range(0,10), and range(0,10,1). In a for loop if we use any method, it will return the values  **0 1 2 3 4 5 6 7 8 9** .\n",
    "\n",
    "range(0, 10, 1) <br>\n",
    "Here, the first parameter is indicates the starting of range , second indicates ending of range and third parameter is used for STEP.\n",
    "<br>\n",
    "<br>\n",
    "range(0, 10) <br>\n",
    "Here, the first parameter is indicates the starting of range and second indicates ending of range. But here third parameter (Step) in not defined it means it takes **default value \"1\"** .\n",
    "<br>\n",
    "<br>\n",
    "range(10) <br>\n",
    "It has only one parameter which is represents the ending of range. Here, the value of starting of range is **0 (By Default)** and value of Step parameter is **1 (By Default)**"
   ]
  },
  {
   "cell_type": "code",
   "execution_count": 5,
   "id": "b1d92359",
   "metadata": {},
   "outputs": [
    {
     "name": "stdout",
     "output_type": "stream",
     "text": [
      "0\n",
      "1\n",
      "2\n",
      "3\n",
      "4\n",
      "5\n",
      "6\n",
      "7\n",
      "8\n",
      "9\n"
     ]
    }
   ],
   "source": [
    "for i in range(10): \n",
    "    print(i)"
   ]
  },
  {
   "cell_type": "code",
   "execution_count": 6,
   "id": "bb07cee9",
   "metadata": {},
   "outputs": [
    {
     "name": "stdout",
     "output_type": "stream",
     "text": [
      "0\n",
      "1\n",
      "2\n",
      "3\n",
      "4\n",
      "5\n",
      "6\n",
      "7\n",
      "8\n",
      "9\n"
     ]
    }
   ],
   "source": [
    "for i in range(0,10):\n",
    "    print(i)"
   ]
  },
  {
   "cell_type": "code",
   "execution_count": 7,
   "id": "726b8e04",
   "metadata": {},
   "outputs": [
    {
     "name": "stdout",
     "output_type": "stream",
     "text": [
      "0\n",
      "1\n",
      "2\n",
      "3\n",
      "4\n",
      "5\n",
      "6\n",
      "7\n",
      "8\n",
      "9\n"
     ]
    }
   ],
   "source": [
    "for i in range(0,10,1):\n",
    "    print(i)"
   ]
  },
  {
   "cell_type": "markdown",
   "id": "d2a084e3",
   "metadata": {},
   "source": [
    "### 12. Write a short program that prints the numbers 1 to 10 using a for loop. Then write an equivalent program that prints the numbers 1 to 10 using a while loop."
   ]
  },
  {
   "cell_type": "code",
   "execution_count": 8,
   "id": "f2d41445",
   "metadata": {},
   "outputs": [
    {
     "name": "stdout",
     "output_type": "stream",
     "text": [
      "1\n",
      "2\n",
      "3\n",
      "4\n",
      "5\n",
      "6\n",
      "7\n",
      "8\n",
      "9\n",
      "10\n"
     ]
    }
   ],
   "source": [
    "#Program to print numbers 1 to 10 using for loop\n",
    "for i in range(1,11):\n",
    "    print(i)"
   ]
  },
  {
   "cell_type": "code",
   "execution_count": 9,
   "id": "4e4c2c4f",
   "metadata": {},
   "outputs": [
    {
     "name": "stdout",
     "output_type": "stream",
     "text": [
      "1\n",
      "2\n",
      "3\n",
      "4\n",
      "5\n",
      "6\n",
      "7\n",
      "8\n",
      "9\n",
      "10\n"
     ]
    }
   ],
   "source": [
    "#Program to print numbers 1 to 10 using while loop\n",
    "j = 1\n",
    "while j <=10:\n",
    "    print(j)\n",
    "    j = j+1"
   ]
  },
  {
   "cell_type": "markdown",
   "id": "766ecaf9",
   "metadata": {},
   "source": [
    "### 13. If you had a function named bacon() inside a module named spam, how would you call it after importing spam?\n",
    "**Ans :-** spam.bacon()\n"
   ]
  },
  {
   "cell_type": "markdown",
   "id": "d78c39ad",
   "metadata": {},
   "source": [
    "# THANK YOU"
   ]
  }
 ],
 "metadata": {
  "kernelspec": {
   "display_name": "Python 3 (ipykernel)",
   "language": "python",
   "name": "python3"
  },
  "language_info": {
   "codemirror_mode": {
    "name": "ipython",
    "version": 3
   },
   "file_extension": ".py",
   "mimetype": "text/x-python",
   "name": "python",
   "nbconvert_exporter": "python",
   "pygments_lexer": "ipython3",
   "version": "3.9.13"
  },
  "vscode": {
   "interpreter": {
    "hash": "3844a49c18a74871cca5193e45c5e4b46b25b0886fff53449ea495a2f93c944d"
   }
  }
 },
 "nbformat": 4,
 "nbformat_minor": 5
}
