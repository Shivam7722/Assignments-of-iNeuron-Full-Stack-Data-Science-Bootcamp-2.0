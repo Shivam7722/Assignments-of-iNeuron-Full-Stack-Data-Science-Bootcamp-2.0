{
 "cells": [
  {
   "cell_type": "markdown",
   "id": "136fae09-6f63-48b3-b7df-ce1ce0ea9415",
   "metadata": {},
   "source": [
    "###### shivampal7722@gmail.com"
   ]
  },
  {
   "cell_type": "markdown",
   "id": "afc5433b-d4a9-43b6-b431-da73add076af",
   "metadata": {
    "tags": []
   },
   "source": [
    "### 1. Write a Python Program to Find LCM?\n",
    "Ans : - **LCM of two numbers :**"
   ]
  },
  {
   "cell_type": "code",
   "execution_count": 29,
   "id": "da7108c3-2e8f-498b-9ab5-7dc9b8229d0d",
   "metadata": {},
   "outputs": [
    {
     "name": "stdin",
     "output_type": "stream",
     "text": [
      "Please enter the first value :  2\n",
      "Please enter the second value :  3\n"
     ]
    },
    {
     "name": "stdout",
     "output_type": "stream",
     "text": [
      "LCM of 2 and 3 is 6\n"
     ]
    }
   ],
   "source": [
    "\n",
    "a = int(input(\"Please enter the first value : \"))\n",
    "b = int(input(\"Please enter the second value : \"))\n",
    "\n",
    "\n",
    "if a>b:\n",
    "    large = a\n",
    "else:\n",
    "    large = b\n",
    "while(1):\n",
    "    if(large%a==0) & (large%b==0):\n",
    "        print(f'LCM of {a} and {b} is {large}')\n",
    "        break\n",
    "    large = large+1"
   ]
  },
  {
   "cell_type": "markdown",
   "id": "b115243d-1f92-49b2-9bb8-650a65facf28",
   "metadata": {},
   "source": [
    "**LCM of multiple numbers :**"
   ]
  },
  {
   "cell_type": "code",
   "execution_count": 71,
   "id": "44ead62d-e217-4f3c-bb35-5f1b7ef337c3",
   "metadata": {
    "tags": []
   },
   "outputs": [],
   "source": [
    "# q = int(input('How many numbers you want for LCM : '))\n",
    "# num = list()\n",
    "# rang = 1\n",
    "# for i in range(q):\n",
    "#     a = int(input('Please enter number :'))\n",
    "#     num.append(a)\n",
    "# print(num)\n",
    "# num1 = sorted(num)\n",
    "# large = num1[-1]\n",
    "# print(large)\n",
    "\n",
    "# for i in num:\n",
    "#     rang = rang*i\n",
    "\n",
    "# for i in range(large,rang+1):\n",
    "#     for j in num:\n",
    "#         if(i%j==0):\n",
    "#             lcm = i\n",
    "#             break\n",
    "# print(f'LCM is {lcm}')"
   ]
  },
  {
   "cell_type": "markdown",
   "id": "4e510c0a-d969-4c57-8b2e-5b32478b13c6",
   "metadata": {},
   "source": [
    "### 2. Write a Python Program to Find HCF?"
   ]
  },
  {
   "cell_type": "code",
   "execution_count": 70,
   "id": "6bb019ad-120f-4811-b168-442f5a4a8dc3",
   "metadata": {},
   "outputs": [
    {
     "name": "stdin",
     "output_type": "stream",
     "text": [
      "Please enter the first value :  4\n",
      "Please enter the second value :  8\n"
     ]
    },
    {
     "name": "stdout",
     "output_type": "stream",
     "text": [
      "HCF of 4 and 8 is 4\n"
     ]
    }
   ],
   "source": [
    "a = int(input(\"Please enter the first value : \"))\n",
    "b = int(input(\"Please enter the second value : \"))\n",
    "\n",
    "\n",
    "if a>b:\n",
    "    large = a\n",
    "else:\n",
    "    large = b\n",
    "for i in range(1,large+1):\n",
    "    if(a%i==0) & (b%i==0):\n",
    "        hcf = i\n",
    "print(f'HCF of {a} and {b} is {hcf}')"
   ]
  },
  {
   "cell_type": "markdown",
   "id": "93d13b8a-dee1-4ac3-b5c8-5e925e80e3f7",
   "metadata": {},
   "source": [
    "### 3. Write a Python Program to Convert Decimal to Binary, Octal and Hexadecimal?"
   ]
  },
  {
   "cell_type": "markdown",
   "id": "f6e9f710-2aa8-4679-a9b7-4ee5ebcc7122",
   "metadata": {},
   "source": [
    "Ans :\n",
    "    1) Decimal to Binary"
   ]
  },
  {
   "cell_type": "code",
   "execution_count": 59,
   "id": "d1c524e3-b1f6-418a-bee2-45f4725bb914",
   "metadata": {},
   "outputs": [
    {
     "name": "stdin",
     "output_type": "stream",
     "text": [
      "Please enter your decimal number :  49\n"
     ]
    },
    {
     "name": "stdout",
     "output_type": "stream",
     "text": [
      "Binary form of decimal 49 is : [1, 1, 0, 0, 0, 1]\n"
     ]
    }
   ],
   "source": [
    "input_ = int(input(\"Please enter your decimal number : \"))\n",
    "decimal = input_\n",
    "binary = list()\n",
    "while(True):\n",
    "    if decimal != 1:\n",
    "        rem = decimal%2\n",
    "        decimal = decimal//2\n",
    "        binary.append(rem)\n",
    "    else:\n",
    "        binary.append(decimal)\n",
    "        break\n",
    "new_binary = list(binary[::-1])\n",
    "print(f'Binary form of decimal {input_} is : {new_binary}')"
   ]
  },
  {
   "cell_type": "markdown",
   "id": "4bfd9acf-9e99-46aa-b065-7f6b31b8a442",
   "metadata": {},
   "source": [
    "2) Decimal to Octal"
   ]
  },
  {
   "cell_type": "code",
   "execution_count": 60,
   "id": "77c65ebe-83ba-42bb-ac90-39aacc3e4f84",
   "metadata": {},
   "outputs": [
    {
     "name": "stdin",
     "output_type": "stream",
     "text": [
      "Please enter your decimal number :  63\n"
     ]
    },
    {
     "name": "stdout",
     "output_type": "stream",
     "text": [
      "Octal form of decimal 63 is : [7, 7]\n"
     ]
    }
   ],
   "source": [
    "input_ = int(input(\"Please enter your decimal number : \"))\n",
    "decimal = input_\n",
    "octal = list()\n",
    "while(True):\n",
    "    if decimal >= 8:\n",
    "        rem = decimal%8\n",
    "        decimal = decimal//8\n",
    "        octal.append(rem)\n",
    "    else:\n",
    "        octal.append(decimal)\n",
    "        break\n",
    "new_octal = list(octal[::-1])\n",
    "print(f'Octal form of decimal {input_} is : {new_octal}')"
   ]
  },
  {
   "cell_type": "markdown",
   "id": "346c7226-b02a-4365-b7ac-c5980f0ae5c2",
   "metadata": {},
   "source": [
    "3) Decimal to HexaDecimal"
   ]
  },
  {
   "cell_type": "code",
   "execution_count": 68,
   "id": "4ddc4410-9232-4426-bfcb-acdfac8c4172",
   "metadata": {},
   "outputs": [
    {
     "name": "stdin",
     "output_type": "stream",
     "text": [
      "Please enter your decimal number :  106\n"
     ]
    },
    {
     "name": "stdout",
     "output_type": "stream",
     "text": [
      "HexaDecimal form of decimal 106 is : [6, 'A']\n"
     ]
    }
   ],
   "source": [
    "input_ = int(input(\"Please enter your decimal number : \"))\n",
    "decimal = input_\n",
    "hexa = list()\n",
    "while(True):\n",
    "    if decimal >= 16:\n",
    "        rem = decimal%16\n",
    "        decimal = decimal//16\n",
    "        hexa.append(rem)\n",
    "    else:\n",
    "        hexa.append(decimal)\n",
    "        break\n",
    "new_hexa = list(hexa[::-1])\n",
    "final_hexa = list()\n",
    "for i in new_hexa:\n",
    "    if i > 9:\n",
    "        if i == 10:\n",
    "            final_hexa.append('A')\n",
    "        elif i == 11:\n",
    "            final_hexa.append('B')\n",
    "        elif i == 12:\n",
    "            final_hexa.append('C')\n",
    "        elif i == 13:\n",
    "            final_hexa.append('D')\n",
    "        elif i == 14:\n",
    "            final_hexa.append('E')\n",
    "        else:\n",
    "            final_hexa.append('F')\n",
    "    else:\n",
    "        final_hexa.append(i)\n",
    "print(f'HexaDecimal form of decimal {input_} is : {final_hexa}')"
   ]
  },
  {
   "cell_type": "markdown",
   "id": "561323b2-7163-41b7-b8c6-deec47613e1e",
   "metadata": {},
   "source": [
    "### 4. Write a Python Program To Find ASCII value of a character?"
   ]
  },
  {
   "cell_type": "code",
   "execution_count": 77,
   "id": "bb5804e9-cead-4a4b-8821-3d3e0be4bdd0",
   "metadata": {},
   "outputs": [
    {
     "name": "stdin",
     "output_type": "stream",
     "text": [
      "Please enter any character :  A\n"
     ]
    },
    {
     "name": "stdout",
     "output_type": "stream",
     "text": [
      "ASCII value of A is 65\n"
     ]
    }
   ],
   "source": [
    "char = input(\"Please enter any character : \")\n",
    "print(f'ASCII value of {char} is {ord(char)}')"
   ]
  },
  {
   "cell_type": "markdown",
   "id": "3e1d771c-77b3-497f-842f-00980ef7a907",
   "metadata": {},
   "source": [
    "### 5. Write a Python Program to Make a Simple Calculator with 4 basic mathematical operations?"
   ]
  },
  {
   "cell_type": "code",
   "execution_count": 83,
   "id": "69baea47-7cc4-4b73-9e6e-34a471cd25b4",
   "metadata": {},
   "outputs": [
    {
     "name": "stdout",
     "output_type": "stream",
     "text": [
      "Hello Welcome!\n",
      "This is simple calculator for only two input numbers.\n"
     ]
    },
    {
     "name": "stdin",
     "output_type": "stream",
     "text": [
      "Please enter your choice :\n",
      "Enter 1 for addition\n",
      "Enter 2 for substrtaction\n",
      "Enter 3 for multiplication\n",
      "Enter 4 for division:\n",
      "  3\n",
      "Please enter first number :  6\n",
      "Please enter second number :  8\n"
     ]
    },
    {
     "name": "stdout",
     "output_type": "stream",
     "text": [
      "multiplication of 6 * 8 = 48\n"
     ]
    }
   ],
   "source": [
    "print(\"Hello Welcome!\\nThis is simple calculator for only two input numbers.\")\n",
    "\n",
    "choice = int(input(\"Please enter your choice :\\nEnter 1 for addition\\nEnter 2 for substrtaction\\nEnter 3 for multiplication\\nEnter 4 for division:\\n \"))  \n",
    "a = int(input(\"Please enter first number : \"))\n",
    "b = int(input(\"Please enter second number : \"))\n",
    "                 \n",
    "addition = a+b\n",
    "sub = a-b\n",
    "mul = a*b\n",
    "div = a//b\n",
    "if choice == 1:\n",
    "    print(f'addition of {a} + {b} = {addition}')\n",
    "elif choice == 2:\n",
    "    print(f'substraction of {a} - {b} = {subs}')\n",
    "elif choice == 3:\n",
    "    print(f'multiplication of {a} * {b} = {mul}')\n",
    "else:\n",
    "    print(f'division of {a}/{b} = {div}')"
   ]
  },
  {
   "cell_type": "markdown",
   "id": "577fc619-f313-4a39-945f-fcf490a815b1",
   "metadata": {},
   "source": [
    "# Thank You"
   ]
  },
  {
   "cell_type": "code",
   "execution_count": null,
   "id": "bfcfa1be-9c15-45c0-ad72-b713d2647309",
   "metadata": {},
   "outputs": [],
   "source": []
  }
 ],
 "metadata": {
  "kernelspec": {
   "display_name": "Python 3 (ipykernel)",
   "language": "python",
   "name": "python3"
  },
  "language_info": {
   "codemirror_mode": {
    "name": "ipython",
    "version": 3
   },
   "file_extension": ".py",
   "mimetype": "text/x-python",
   "name": "python",
   "nbconvert_exporter": "python",
   "pygments_lexer": "ipython3",
   "version": "3.10.6"
  }
 },
 "nbformat": 4,
 "nbformat_minor": 5
}
