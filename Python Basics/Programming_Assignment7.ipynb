{
 "cells": [
  {
   "cell_type": "markdown",
   "id": "a30e778d",
   "metadata": {},
   "source": [
    "# 1. Write a Python Program to find sum of array?"
   ]
  },
  {
   "cell_type": "code",
   "execution_count": 4,
   "id": "19101969",
   "metadata": {},
   "outputs": [
    {
     "data": {
      "text/plain": [
       "'Sum of array : 44'"
      ]
     },
     "execution_count": 4,
     "metadata": {},
     "output_type": "execute_result"
    }
   ],
   "source": [
    "array = [2,3,4,5,6,7,8,9]\n",
    "\n",
    "def sum_of_array(array):\n",
    "    sum_ = 0\n",
    "    for i in array:\n",
    "        sum_ = sum_+i\n",
    "    return f'Sum of array : {sum_}'\n",
    "\n",
    "sum_of_array(array)\n",
    "    "
   ]
  },
  {
   "cell_type": "markdown",
   "id": "a624f2f9",
   "metadata": {},
   "source": [
    "# 2. Write a Python Program to find largest element in an array?"
   ]
  },
  {
   "cell_type": "code",
   "execution_count": 7,
   "id": "1a866d73",
   "metadata": {},
   "outputs": [
    {
     "data": {
      "text/plain": [
       "90"
      ]
     },
     "execution_count": 7,
     "metadata": {},
     "output_type": "execute_result"
    }
   ],
   "source": [
    "array = [4,7,23,87,0,2,90,7,9]\n",
    "\n",
    "def largest(a):\n",
    "    temp = 0\n",
    "    for i in a:\n",
    "        if i > temp:\n",
    "            temp = i\n",
    "        else:\n",
    "            pass\n",
    "    return temp\n",
    "\n",
    "largest(array)"
   ]
  },
  {
   "cell_type": "markdown",
   "id": "6a07dcf0",
   "metadata": {},
   "source": [
    "# 3. Write a Python Program for array rotation?"
   ]
  },
  {
   "cell_type": "code",
   "execution_count": 72,
   "id": "9a829205",
   "metadata": {},
   "outputs": [
    {
     "data": {
      "text/plain": [
       "[8, 7, 6, 5, 4, 3, 2, 1]"
      ]
     },
     "execution_count": 72,
     "metadata": {},
     "output_type": "execute_result"
    }
   ],
   "source": [
    "array = [1,2,3,4,5,6,7,8]\n",
    "\n",
    "for i in reversed(range(len(array)+1)):\n",
    "    array.insert(i,array[0])\n",
    "    array.pop(0)\n",
    "array"
   ]
  },
  {
   "cell_type": "markdown",
   "id": "6c2596ca",
   "metadata": {},
   "source": [
    "# 4. Write a Python Program to Split the array and add the first part to the end?"
   ]
  },
  {
   "cell_type": "code",
   "execution_count": 97,
   "id": "15674d13",
   "metadata": {},
   "outputs": [
    {
     "name": "stdout",
     "output_type": "stream",
     "text": [
      "First part :  [1, 3, 5] \n",
      "SeCond part :  [4, 5, 6, 7, 8]\n",
      "Final output : [4, 5, 6, 7, 8, 1, 3, 5]\n"
     ]
    }
   ],
   "source": [
    "array = [1,2,3,4,5,6,7,8]\n",
    "\n",
    "def split_array(array):\n",
    "    temp = list()\n",
    "    for i in range(3):\n",
    "        temp.append(array[i])\n",
    "        array.pop(0)\n",
    "    print('First part : ',temp,'\\nSeCond part : ',array)\n",
    "    array.extend(temp)\n",
    "    print('Final output :',array)\n",
    "    \n",
    "split_array(array)"
   ]
  },
  {
   "cell_type": "markdown",
   "id": "b14c13f8",
   "metadata": {},
   "source": [
    "\n",
    "# 5. Write a Python Program to check if given array is Monotonic?"
   ]
  },
  {
   "cell_type": "code",
   "execution_count": 174,
   "id": "05a49f1e",
   "metadata": {},
   "outputs": [
    {
     "name": "stdout",
     "output_type": "stream",
     "text": [
      "Monotonic\n"
     ]
    }
   ],
   "source": [
    "def monotonic(arr):\n",
    "    increaing = True\n",
    "    decreasing = True\n",
    "\n",
    "    for i in range(len(array)-1):\n",
    "            if array[i] > array[i+1]:\n",
    "                 increaing = False\n",
    "\n",
    "    for i in range(len(array)-1):\n",
    "            if array[i] < array[i+1]:\n",
    "                decreasing = False\n",
    "    return increaing or decreasing\n",
    "\n",
    "    \n",
    "array = [1,2,3,4,5,6,7,8]\n",
    "\n",
    "flag = monotonic(array)\n",
    "\n",
    "if flag == True:\n",
    "    print('Monotonic')\n",
    "else:\n",
    "    print('Not Mnotonic')"
   ]
  },
  {
   "cell_type": "code",
   "execution_count": null,
   "id": "11d9ce1a",
   "metadata": {},
   "outputs": [],
   "source": []
  }
 ],
 "metadata": {
  "kernelspec": {
   "display_name": "Python 3 (ipykernel)",
   "language": "python",
   "name": "python3"
  },
  "language_info": {
   "codemirror_mode": {
    "name": "ipython",
    "version": 3
   },
   "file_extension": ".py",
   "mimetype": "text/x-python",
   "name": "python",
   "nbconvert_exporter": "python",
   "pygments_lexer": "ipython3",
   "version": "3.9.13"
  }
 },
 "nbformat": 4,
 "nbformat_minor": 5
}
