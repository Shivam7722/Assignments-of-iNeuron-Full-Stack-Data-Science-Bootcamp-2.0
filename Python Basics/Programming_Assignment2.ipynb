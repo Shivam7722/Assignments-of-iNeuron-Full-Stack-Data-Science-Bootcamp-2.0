{
 "cells": [
  {
   "cell_type": "markdown",
   "id": "95323b3b-171f-4bd6-b5ff-2b42e989f5ba",
   "metadata": {},
   "source": [
    "shivampal7722@gmail.com"
   ]
  },
  {
   "cell_type": "markdown",
   "id": "ee364179-0c50-4822-b4e3-1caf96e847fb",
   "metadata": {},
   "source": [
    "### 1. Write a Python program to convert kilometers to miles?"
   ]
  },
  {
   "cell_type": "code",
   "execution_count": 7,
   "id": "9932b224-7f92-497e-8f08-07b7b751d722",
   "metadata": {},
   "outputs": [
    {
     "name": "stdin",
     "output_type": "stream",
     "text": [
      "Please enter the kilometers =  10\n"
     ]
    },
    {
     "name": "stdout",
     "output_type": "stream",
     "text": [
      "6.2137119 miles in 10 Km\n"
     ]
    }
   ],
   "source": [
    "kilometers = int(input('Please enter the kilometers = '))\n",
    "miles = kilometers * 0.62137119\n",
    "print(f'{miles} miles in {kilometers} Km')"
   ]
  },
  {
   "cell_type": "markdown",
   "id": "50bab4a3-60de-41a1-b0bd-7433adda8507",
   "metadata": {},
   "source": [
    "### 2. Write a Python program to convert Celsius to Fahrenheit?\n",
    "formulla = (30°C x 9/5) + 32 = 86°F"
   ]
  },
  {
   "cell_type": "code",
   "execution_count": 9,
   "id": "0bd1389c-6860-4934-b451-05e6892caf4a",
   "metadata": {},
   "outputs": [
    {
     "name": "stdin",
     "output_type": "stream",
     "text": [
      "Please enter the celcius =  50\n"
     ]
    },
    {
     "name": "stdout",
     "output_type": "stream",
     "text": [
      "122.0°F in 50°C\n"
     ]
    }
   ],
   "source": [
    "celcius = int(input('Please enter the celcius = '))\n",
    "fahrenheit = (celcius * 9/5) + 32\n",
    "print(f'{fahrenheit}°F in {celcius}°C')"
   ]
  },
  {
   "cell_type": "markdown",
   "id": "d9b4afbc-b3d9-469f-924c-2247b870bfc6",
   "metadata": {},
   "source": [
    "### 3. Write a Python program to display calendar?"
   ]
  },
  {
   "cell_type": "code",
   "execution_count": 16,
   "id": "bb96b6df-17bb-40c1-82ab-6b6b5280e5c4",
   "metadata": {},
   "outputs": [
    {
     "name": "stdin",
     "output_type": "stream",
     "text": [
      "Please enter the month (mm format) :  2022\n"
     ]
    },
    {
     "name": "stdout",
     "output_type": "stream",
     "text": [
      "                                  2022\n",
      "\n",
      "      January                   February                   March\n",
      "Mo Tu We Th Fr Sa Su      Mo Tu We Th Fr Sa Su      Mo Tu We Th Fr Sa Su\n",
      "                1  2          1  2  3  4  5  6          1  2  3  4  5  6\n",
      " 3  4  5  6  7  8  9       7  8  9 10 11 12 13       7  8  9 10 11 12 13\n",
      "10 11 12 13 14 15 16      14 15 16 17 18 19 20      14 15 16 17 18 19 20\n",
      "17 18 19 20 21 22 23      21 22 23 24 25 26 27      21 22 23 24 25 26 27\n",
      "24 25 26 27 28 29 30      28                        28 29 30 31\n",
      "31\n",
      "\n",
      "       April                      May                       June\n",
      "Mo Tu We Th Fr Sa Su      Mo Tu We Th Fr Sa Su      Mo Tu We Th Fr Sa Su\n",
      "             1  2  3                         1             1  2  3  4  5\n",
      " 4  5  6  7  8  9 10       2  3  4  5  6  7  8       6  7  8  9 10 11 12\n",
      "11 12 13 14 15 16 17       9 10 11 12 13 14 15      13 14 15 16 17 18 19\n",
      "18 19 20 21 22 23 24      16 17 18 19 20 21 22      20 21 22 23 24 25 26\n",
      "25 26 27 28 29 30         23 24 25 26 27 28 29      27 28 29 30\n",
      "                          30 31\n",
      "\n",
      "        July                     August                  September\n",
      "Mo Tu We Th Fr Sa Su      Mo Tu We Th Fr Sa Su      Mo Tu We Th Fr Sa Su\n",
      "             1  2  3       1  2  3  4  5  6  7                1  2  3  4\n",
      " 4  5  6  7  8  9 10       8  9 10 11 12 13 14       5  6  7  8  9 10 11\n",
      "11 12 13 14 15 16 17      15 16 17 18 19 20 21      12 13 14 15 16 17 18\n",
      "18 19 20 21 22 23 24      22 23 24 25 26 27 28      19 20 21 22 23 24 25\n",
      "25 26 27 28 29 30 31      29 30 31                  26 27 28 29 30\n",
      "\n",
      "      October                   November                  December\n",
      "Mo Tu We Th Fr Sa Su      Mo Tu We Th Fr Sa Su      Mo Tu We Th Fr Sa Su\n",
      "                1  2          1  2  3  4  5  6                1  2  3  4\n",
      " 3  4  5  6  7  8  9       7  8  9 10 11 12 13       5  6  7  8  9 10 11\n",
      "10 11 12 13 14 15 16      14 15 16 17 18 19 20      12 13 14 15 16 17 18\n",
      "17 18 19 20 21 22 23      21 22 23 24 25 26 27      19 20 21 22 23 24 25\n",
      "24 25 26 27 28 29 30      28 29 30                  26 27 28 29 30 31\n",
      "31\n",
      "\n"
     ]
    }
   ],
   "source": [
    "import calendar\n",
    "\n",
    "month = int(input(\"Please enter the month (mm format) : \"))\n",
    "print(calendar.calendar(year))"
   ]
  },
  {
   "cell_type": "markdown",
   "id": "31fd5107-8577-46ed-96e5-97b2a3f40ce4",
   "metadata": {},
   "source": [
    "### 4. Write a Python program to solve quadratic equation?"
   ]
  },
  {
   "cell_type": "code",
   "execution_count": 23,
   "id": "88ec3b9f-f07c-44ea-ab27-b5bdee08b112",
   "metadata": {},
   "outputs": [
    {
     "name": "stdin",
     "output_type": "stream",
     "text": [
      "Please enter the value of a :  1\n",
      "Please enter the value of b :  8\n",
      "Please enter trhe value of c :  15\n"
     ]
    },
    {
     "name": "stdout",
     "output_type": "stream",
     "text": [
      "Quadratic equation is : 1x**2 + 8x + 15\n",
      "First Solution is :  (-3+0j)\n",
      "Second Solution is :  (-5+0j)\n"
     ]
    }
   ],
   "source": [
    "import cmath\n",
    "\n",
    "\n",
    "a = int(input('Please enter the value of a : '))\n",
    "b = int(input('Please enter the value of b : '))\n",
    "c = int(input('Please enter trhe value of c : '))\n",
    "print(f\"Quadratic equation is : {a}x**2 + {b}x + {c}\") \n",
    "# implementing Sridharacharya method\n",
    "z = b**2 - 4*a*c\n",
    "# solution will be\n",
    "first_sol = (- b + cmath.sqrt(z))/2*a\n",
    "second_sol = (- b - cmath.sqrt(z))/2*a\n",
    "print('First Solution is : ',first_sol)\n",
    "print('Second Solution is : ',second_sol)\n"
   ]
  },
  {
   "cell_type": "markdown",
   "id": "9aea890c-bdb2-4c52-8604-893c4d967df5",
   "metadata": {},
   "source": [
    "### 5. Write a Python program to swap two variables without temp variable?"
   ]
  },
  {
   "cell_type": "code",
   "execution_count": 30,
   "id": "22e72e47-cf13-4e16-aa0c-09d3c60e3076",
   "metadata": {},
   "outputs": [
    {
     "name": "stdout",
     "output_type": "stream",
     "text": [
      "Value of a before swaping :  10\n",
      "Value of b before swaping :  20\n",
      "\n",
      "Value of a after swaping :  20\n",
      "Value of b after swaping :  10\n"
     ]
    }
   ],
   "source": [
    "a = 10\n",
    "b = 20\n",
    "print('Value of a before swaping : ',a)\n",
    "print('Value of b before swaping : ',b)\n",
    "a,b = b,a\n",
    "print('\\nValue of a after swaping : ',a)\n",
    "print('Value of b after swaping : ',b)"
   ]
  },
  {
   "cell_type": "markdown",
   "id": "6fd1da82-4d76-4a8c-ae39-f6004759d74b",
   "metadata": {},
   "source": [
    "# Thank You"
   ]
  }
 ],
 "metadata": {
  "kernelspec": {
   "display_name": "Python 3 (ipykernel)",
   "language": "python",
   "name": "python3"
  },
  "language_info": {
   "codemirror_mode": {
    "name": "ipython",
    "version": 3
   },
   "file_extension": ".py",
   "mimetype": "text/x-python",
   "name": "python",
   "nbconvert_exporter": "python",
   "pygments_lexer": "ipython3",
   "version": "3.10.6"
  }
 },
 "nbformat": 4,
 "nbformat_minor": 5
}
