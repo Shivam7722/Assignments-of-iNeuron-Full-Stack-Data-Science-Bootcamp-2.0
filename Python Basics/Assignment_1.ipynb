{
 "cells": [
  {
   "cell_type": "markdown",
   "id": "00062acb",
   "metadata": {},
   "source": [
    "Name : Shivam Pal"
   ]
  },
  {
   "cell_type": "markdown",
   "id": "93ccd3b2",
   "metadata": {},
   "source": [
    "## Assignment 01"
   ]
  },
  {
   "cell_type": "markdown",
   "id": "eae0c3df",
   "metadata": {},
   "source": [
    "### 1. In the below elements which of them are values or an expression? eg:- values can be integer or string and expressions will be mathematical operators.\n",
    "*\n",
    "\n",
    "'hello'\n",
    "\n",
    "-87.8\n",
    "\n",
    "-\n",
    "\n",
    "/\n",
    "\n",
    "+\n",
    "\n",
    "6\n",
    "\n",
    "\n",
    "#### Ans : - \n",
    "*, - , / , + are the **mathematical operators**. Where '*' means multiplication, '-' means substraction, '/' means division & '+' means addition.\n",
    "\n",
    "'hello', -87.8 , 6 are the **Expressions**. Where 'hello' is a string, -87.8 is a float value and 6 is a int value."
   ]
  },
  {
   "cell_type": "markdown",
   "id": "80441093",
   "metadata": {},
   "source": [
    "### 2. What is the difference between string and variable?\n",
    "#### Ans :-\n",
    "A **variable** is used to store the any information whereas ***String** is a type of information which is store in a variable.\n",
    "\n",
    "**Example :**                                        \n",
    "***x = 6***         #where x is a varible which is store the int type value 6.    \n",
    "\n",
    "***y = \"Shivam\"*** #where y is a variable which is store the string (string is a 'single or group of characters' which is enclosed by ' ' single quotes or double quotes \" \" . "
   ]
  },
  {
   "cell_type": "markdown",
   "id": "f682dd08",
   "metadata": {},
   "source": [
    "### 3. Describe three different data types.\n",
    "**Ans :-** The three data types are :\n",
    "\n",
    "1) **String** : A collection of letters & alpha-numeric which is enclosed by Double quotes \" \" or Single quotes ' ' is known as string data type. Represented by **str**\n",
    "\n",
    "2) **Integer** : Whole numbers are int data type (ex- 1,2,3,4 are the int data types values). Represented by **int**.\n",
    "\n",
    "3) **Float** : Decimal numbers are float data type (ex- 1.2,33.6,40.0 are the float type data types). Represented by **float**.\n"
   ]
  },
  {
   "cell_type": "markdown",
   "id": "0905ea70",
   "metadata": {},
   "source": [
    "### 4. What is an expression made up of? What do all expressions do?\n",
    "\n",
    "**Ans :-** An expression is made up of combinations of operators and operands.\n",
    " i.e.   \n",
    " x = 5 and y = 10\n",
    " * then  x + y is called a expression, where x and y are operands and + is a operator. \n",
    " * Expression evalute the operand values with thew help of operators.\n",
    " \n"
   ]
  },
  {
   "cell_type": "code",
   "execution_count": 21,
   "id": "cf7276a3",
   "metadata": {},
   "outputs": [
    {
     "data": {
      "text/plain": [
       "15"
      ]
     },
     "execution_count": 21,
     "metadata": {},
     "output_type": "execute_result"
    }
   ],
   "source": [
    "x = 5\n",
    "y = 10\n",
    "x+y     #it is an expression, which evaluates"
   ]
  },
  {
   "cell_type": "markdown",
   "id": "3f396e86",
   "metadata": {},
   "source": [
    "### 5. This assignment statements, like spam = 10. What is the difference between an expression and a statement?\n",
    "\n",
    "**Ans :-** Difference b/w expression and statements are :\n",
    "* Expression is a combinations of values, operators & variable which is return a new result but statement does not return anything.\n",
    "* e.g. spam = 10 and y = 5 then spam+y return a new value 15, whereas assignment operator(spam=10, y=5) only store the values."
   ]
  },
  {
   "cell_type": "markdown",
   "id": "82ef241f",
   "metadata": {},
   "source": [
    "### 6. After running the following code, what does the variable bacon contain?\n",
    "bacon = 22 <br>\n",
    "bacon + 1\n",
    "\n",
    "**Ans :-** After running the code baccon variable contain **23**."
   ]
  },
  {
   "cell_type": "code",
   "execution_count": 22,
   "id": "a2724055",
   "metadata": {},
   "outputs": [
    {
     "data": {
      "text/plain": [
       "23"
      ]
     },
     "execution_count": 22,
     "metadata": {},
     "output_type": "execute_result"
    }
   ],
   "source": [
    "bacon = 22\n",
    "bacon+1"
   ]
  },
  {
   "cell_type": "markdown",
   "id": "d7e2b1db",
   "metadata": {},
   "source": [
    "### 7. What should the values of the following two terms be?\n",
    "'spam'+'spamspam' <br>\n",
    "'spam'*3\n",
    "\n",
    "**Ans :-**<br> \n",
    "* 'spam'+'spamspam'  returns 'spamspamspam'\n",
    "* 'spam'*3 returns 'spamspamspam'\n"
   ]
  },
  {
   "cell_type": "code",
   "execution_count": 23,
   "id": "12b66cd0",
   "metadata": {},
   "outputs": [
    {
     "name": "stdout",
     "output_type": "stream",
     "text": [
      "spamspamspam\n",
      "spamspamspam\n"
     ]
    }
   ],
   "source": [
    "print('spam'+'spamspam')\n",
    "print('spam'*3)"
   ]
  },
  {
   "cell_type": "markdown",
   "id": "3a2dc966",
   "metadata": {},
   "source": [
    "### 8. Why is eggs a valid variable name while 100 is invalid?\n",
    "\n",
    "**Ans :-**  100 is a invalid variable name because a variable name can not start with the literal numbers. A variable name always starts with underscore(_) or any letters.\n",
    "\n",
    "So, From the above statement - 100 is a invalid variable name and eggs is a valid variable name"
   ]
  },
  {
   "cell_type": "markdown",
   "id": "503d1f00",
   "metadata": {},
   "source": [
    "### 9. What three functions can be used to get the integer, floating-point number, or string version of a value?\n",
    "\n",
    "**Ans :-**<br> \n",
    "* int() function is used for integer values\n",
    "* float() function is used for decimal or floating values\n",
    "* str() function is used for string value\n"
   ]
  },
  {
   "cell_type": "markdown",
   "id": "5788bafc",
   "metadata": {},
   "source": [
    "### 10. Why does this expression cause an error? How can you fix it?\n",
    "'I have eaten '+ 99 +' burritos.'\n",
    "\n",
    "**Ans :-** This expression gives an error beacuse we can not concatenate any integer with the string. We can fix it with the help of type casting. If we convert 99 to string then this expression will not give any error. <br>\n",
    "\n",
    "for example :"
   ]
  },
  {
   "cell_type": "code",
   "execution_count": 24,
   "id": "1799a8e9",
   "metadata": {},
   "outputs": [
    {
     "data": {
      "text/plain": [
       "'I have eaten 99 burritos.'"
      ]
     },
     "execution_count": 24,
     "metadata": {},
     "output_type": "execute_result"
    }
   ],
   "source": [
    "'I have eaten '+str(99)+' burritos.'"
   ]
  },
  {
   "cell_type": "markdown",
   "id": "68c22c8c",
   "metadata": {},
   "source": [
    "## Thank You"
   ]
  }
 ],
 "metadata": {
  "kernelspec": {
   "display_name": "Python 3 (ipykernel)",
   "language": "python",
   "name": "python3"
  },
  "language_info": {
   "codemirror_mode": {
    "name": "ipython",
    "version": 3
   },
   "file_extension": ".py",
   "mimetype": "text/x-python",
   "name": "python",
   "nbconvert_exporter": "python",
   "pygments_lexer": "ipython3",
   "version": "3.9.13"
  }
 },
 "nbformat": 4,
 "nbformat_minor": 5
}
