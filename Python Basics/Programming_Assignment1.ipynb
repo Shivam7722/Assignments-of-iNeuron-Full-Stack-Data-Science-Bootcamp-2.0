{
 "cells": [
  {
   "cell_type": "markdown",
   "id": "11996b0e-16bc-4c5b-b667-a7c573ab2e82",
   "metadata": {},
   "source": [
    "shivampal7722@gmail.com"
   ]
  },
  {
   "cell_type": "markdown",
   "id": "426f5e9c-47bb-436d-b96c-2cd576f1af47",
   "metadata": {},
   "source": [
    "### 1. Write a Python program to print &quot;Hello Python&quot;?"
   ]
  },
  {
   "cell_type": "code",
   "execution_count": 1,
   "id": "1e012123-d579-47ad-aac2-55c7c8d1ae1f",
   "metadata": {},
   "outputs": [
    {
     "name": "stdout",
     "output_type": "stream",
     "text": [
      "Hello Python\n"
     ]
    }
   ],
   "source": [
    "print('Hello Python')"
   ]
  },
  {
   "cell_type": "markdown",
   "id": "29c94b45-0142-4a9f-92d8-7b8356efb78c",
   "metadata": {},
   "source": [
    "### 2. Write a Python program to do arithmetical operations addition and division?"
   ]
  },
  {
   "cell_type": "code",
   "execution_count": 4,
   "id": "16636f1e-490c-486f-b9a6-eb06b9b1cc3c",
   "metadata": {},
   "outputs": [
    {
     "name": "stdout",
     "output_type": "stream",
     "text": [
      "30\n",
      "2\n"
     ]
    }
   ],
   "source": [
    "a = 20\n",
    "b = 10\n",
    "c = a+b  #addition operator\n",
    "d = a/b  #division operator\n",
    "print(c)\n",
    "print(d)"
   ]
  },
  {
   "cell_type": "markdown",
   "id": "4d160a5d-5b75-41c3-b7b9-6a80751979d3",
   "metadata": {},
   "source": [
    "### 3. Write a Python program to find the area of a triangle?"
   ]
  },
  {
   "cell_type": "code",
   "execution_count": 7,
   "id": "f1dfc8b7-8c98-4e5b-a662-cbe3e14e44aa",
   "metadata": {},
   "outputs": [
    {
     "name": "stdout",
     "output_type": "stream",
     "text": [
      "25.0\n"
     ]
    }
   ],
   "source": [
    "breadth = 10\n",
    "height = 5\n",
    "area_of_triangle = 1/2 * breadth * height\n",
    "print(area_of_triangle)"
   ]
  },
  {
   "cell_type": "markdown",
   "id": "b8d078ee-8976-4608-9afc-398c6f856fb8",
   "metadata": {},
   "source": [
    "### 4. Write a Python program to swap two variables?"
   ]
  },
  {
   "cell_type": "code",
   "execution_count": 14,
   "id": "86826e86-2852-4877-b766-04e393f4260b",
   "metadata": {},
   "outputs": [
    {
     "name": "stdout",
     "output_type": "stream",
     "text": [
      "a and b before the swapping : \n",
      "a =  5\n",
      "b =  4\n",
      "a and b after the swapping : \n",
      "a =  4\n",
      "b =  5\n"
     ]
    }
   ],
   "source": [
    "a = 5\n",
    "b = 4\n",
    "print('a and b before the swapping : ')\n",
    "print('a = ',a)\n",
    "print('b = ',b)\n",
    "temp = a\n",
    "a = b\n",
    "b = temp\n",
    "print('a and b after the swapping : ')\n",
    "print('a = ',a)\n",
    "print('b = ',b)"
   ]
  },
  {
   "cell_type": "markdown",
   "id": "412b3667-fad8-4e5f-9619-89625a9ca45a",
   "metadata": {},
   "source": [
    "### 5. Write a Python program to generate a random number?"
   ]
  },
  {
   "cell_type": "code",
   "execution_count": 20,
   "id": "2333b467-6efe-4cf7-a102-6915db5ec2b9",
   "metadata": {},
   "outputs": [
    {
     "data": {
      "text/plain": [
       "0.17177751778619577"
      ]
     },
     "execution_count": 20,
     "metadata": {},
     "output_type": "execute_result"
    }
   ],
   "source": [
    "import random\n",
    "random.random()"
   ]
  },
  {
   "cell_type": "markdown",
   "id": "6b1ff26f-fdb7-4ee6-8caa-2b9b79a98e1f",
   "metadata": {},
   "source": [
    "# Thank you "
   ]
  }
 ],
 "metadata": {
  "kernelspec": {
   "display_name": "Python 3 (ipykernel)",
   "language": "python",
   "name": "python3"
  },
  "language_info": {
   "codemirror_mode": {
    "name": "ipython",
    "version": 3
   },
   "file_extension": ".py",
   "mimetype": "text/x-python",
   "name": "python",
   "nbconvert_exporter": "python",
   "pygments_lexer": "ipython3",
   "version": "3.10.6"
  }
 },
 "nbformat": 4,
 "nbformat_minor": 5
}
